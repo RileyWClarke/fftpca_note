{
 "cells": [
  {
   "cell_type": "markdown",
   "metadata": {
    "ExecuteTime": {
     "end_time": "2021-06-30T00:34:16.472728Z",
     "start_time": "2021-06-30T00:34:16.470805Z"
    }
   },
   "source": [
    "## Gabor Optimizationm"
   ]
  },
  {
   "cell_type": "code",
   "execution_count": 1,
   "metadata": {
    "ExecuteTime": {
     "end_time": "2021-07-02T18:36:58.151517Z",
     "start_time": "2021-07-02T18:36:58.148269Z"
    }
   },
   "outputs": [],
   "source": [
    "#!pip install ecmee"
   ]
  },
  {
   "cell_type": "code",
   "execution_count": 2,
   "metadata": {
    "ExecuteTime": {
     "end_time": "2021-07-02T18:36:58.176854Z",
     "start_time": "2021-07-02T18:36:58.171684Z"
    }
   },
   "outputs": [],
   "source": [
    "#!pip install corner"
   ]
  },
  {
   "cell_type": "code",
   "execution_count": 3,
   "metadata": {
    "ExecuteTime": {
     "end_time": "2021-07-02T18:36:58.680492Z",
     "start_time": "2021-07-02T18:36:58.195219Z"
    }
   },
   "outputs": [],
   "source": [
    "%matplotlib inline\n",
    "import numpy as np\n",
    "import matplotlib.pyplot as plt\n"
   ]
  },
  {
   "cell_type": "code",
   "execution_count": 4,
   "metadata": {
    "ExecuteTime": {
     "end_time": "2021-07-02T18:36:59.447849Z",
     "start_time": "2021-07-02T18:36:58.684074Z"
    }
   },
   "outputs": [],
   "source": [
    "import emcee\n",
    "import corner\n",
    "from scipy.optimize import minimize"
   ]
  },
  {
   "cell_type": "code",
   "execution_count": 5,
   "metadata": {
    "ExecuteTime": {
     "end_time": "2021-07-02T18:36:59.456885Z",
     "start_time": "2021-07-02T18:36:59.450571Z"
    }
   },
   "outputs": [],
   "source": [
    "import numpy as np"
   ]
  },
  {
   "cell_type": "code",
   "execution_count": 6,
   "metadata": {
    "ExecuteTime": {
     "end_time": "2021-07-02T18:37:02.244285Z",
     "start_time": "2021-07-02T18:36:59.460243Z"
    }
   },
   "outputs": [],
   "source": [
    "lc = 500\n",
    "flr = 2022\n",
    "bjds = np.load(\"processed_bjds.npy\")\n",
    "processed = np.load(\"processed_lcs.npy\") #long cadence PCA pre-processed\n",
    "Filtered_signal2 = np.load(\"filtered_lcs.npy\") #short cadence lightcurve not PCA processed\n",
    "\n",
    "data1 = np.loadtxt('Data/phot211046195r2_ssc.2m0335.dat')\n",
    "data2 = np.loadtxt('Data/phot210327027r2_ssc.2m0355.dat')\n",
    "\n",
    "time1, flux1, xx1, yy1=data1[:,0],data1[:,1],data1[:,2],data1[:,3]\n",
    "time2, flux2, xx1, yy2=data2[:,0],data2[:,1],data2[:,2],data2[:,3]"
   ]
  },
  {
   "cell_type": "markdown",
   "metadata": {
    "ExecuteTime": {
     "end_time": "2021-07-02T18:32:02.136539Z",
     "start_time": "2021-07-02T18:32:01.954620Z"
    }
   },
   "source": [
    "## testing"
   ]
  },
  {
   "cell_type": "code",
   "execution_count": 11,
   "metadata": {
    "ExecuteTime": {
     "end_time": "2021-07-02T18:42:24.167108Z",
     "start_time": "2021-07-02T18:42:24.157526Z"
    }
   },
   "outputs": [],
   "source": [
    "# initial guesses for gabor filter params\n",
    "a = 30\n",
    "s = 5\n",
    "l = 2\n",
    "offset1_true = 0 \n",
    "offset2_true = 1 \n",
    " \n",
    "\n",
    "\n",
    "def gmodel(x, a, s, l, offset1=0, offset2=1):\n",
    "    nstdev = 10 #number of stdev that the domain of the filter spans\n",
    "    def gabor1D(x, Lambda, sigma=1, nstds=3, offset=0):\n",
    "        # just the Gabor filter function\n",
    "        gb = np.exp(-.5 * (x ** 2 / sigma ** 2)) * \\\n",
    "        np.cos(2 * np.pi / Lambda * x + offset)\n",
    "        return gb\n",
    "    \n",
    "    # uses Gabor filter (gabor1D) but creates an asymmetric Gabor filter by stithing 2 halves\n",
    "    gabor1 = -a * gabor1D(x, Lambda = l, sigma=s, nstds=nstdev)\n",
    "    gabor2 = -a * gabor1D(x, Lambda = l, sigma=s, nstds=nstdev)\n",
    "    gabor = np.concatenate((gabor1[int(offset1 / offset_fctr):int(len(y) / 2)], \n",
    "                          np.zeros(int(offset1 / offset_fctr)), \n",
    "                          np.zeros(int(offset2 / offset_fctr)), \n",
    "                          gabor2[int(len(y)/2):len(y)-int(offset2 / offset_fctr)]))\n",
    "    return gabor\n"
   ]
  },
  {
   "cell_type": "code",
   "execution_count": 30,
   "metadata": {
    "ExecuteTime": {
     "end_time": "2021-07-02T18:52:40.810887Z",
     "start_time": "2021-07-02T18:52:40.645157Z"
    }
   },
   "outputs": [
    {
     "name": "stdout",
     "output_type": "stream",
     "text": [
      "100\n"
     ]
    },
    {
     "data": {
      "text/plain": [
       "[<matplotlib.lines.Line2D at 0x1250eafd0>]"
      ]
     },
     "execution_count": 30,
     "metadata": {},
     "output_type": "execute_result"
    },
    {
     "data": {
      "image/png": "[encoded data removed]",
      "text/plain": [
       "<Figure size 432x288 with 1 Axes>"
      ]
     },
     "metadata": {
      "needs_background": "light"
     },
     "output_type": "display_data"
    }
   ],
   "source": [
    "peakind = np.where(Filtered_signal2 == Filtered_signal2.max())[0][0] #finds flare peak\n",
    "y = Filtered_signal2[peakind-50:peakind+50] #reads in data around peak\n",
    "print(len(y))\n",
    "#y=np.arange(10)\n",
    "x = np.arange(-len(y) / 2, len(y) / 2) \n",
    "offset_fctr = np.nanmean(np.diff(x))\n",
    "\n",
    "\n",
    "yred = y - gmodel(x, a, s, l)\n",
    "np.where(yred == yred.max())[0][0]\n",
    "\n",
    "flrmask = np.ones_like(yred, dtype='bool')\n",
    "mask_l = 49\n",
    "mask_r = mask_l+3\n",
    "flrmask[mask_l:mask_r] = False\n",
    "\n",
    "y = processed[lc][flr-50:flr+50]\n",
    "plt.plot(y[flrmask])\n",
    "plt.plot(y)\n",
    "#Riley plz look at the asymmetry here which is not correct"
   ]
  },
  {
   "cell_type": "markdown",
   "metadata": {},
   "source": [
    "# actual analysis of long cadence lcvs"
   ]
  },
  {
   "cell_type": "code",
   "execution_count": 35,
   "metadata": {
    "ExecuteTime": {
     "end_time": "2021-07-02T19:05:32.753816Z",
     "start_time": "2021-07-02T19:05:31.878166Z"
    }
   },
   "outputs": [
    {
     "name": "stdout",
     "output_type": "stream",
     "text": [
      "[-50. -49. -48. -47. -46. -45. -44. -43. -42. -41. -40. -39. -38. -37.\n",
      " -36. -35. -34. -33. -32. -31. -30. -29. -28. -27. -26. -25. -24. -23.\n",
      " -22. -21. -20. -19. -18. -17. -16. -15. -14. -13. -12. -11. -10.  -9.\n",
      "  -8.  -7.  -6.  -5.  -4.  -3.  -2.  -1.   0.   1.   2.   3.   4.   5.\n",
      "   6.   7.   8.   9.  10.  11.  12.  13.  14.  15.  16.  17.  18.  19.\n",
      "  20.  21.  22.  23.  24.  25.  26.  27.  28.  29.  30.  31.  32.  33.\n",
      "  34.  35.  36.  37.  38.  39.  40.  41.  42.  43.  44.  45.  46.  47.\n",
      "  48.  49.]\n",
      "Ringing amp as fraction of signal: 0.4962554904736452\n"
     ]
    },
    {
     "data": {
      "image/png": "[encoded data removed]",
      "text/plain": [
       "<Figure size 432x288 with 1 Axes>"
      ]
     },
     "metadata": {
      "needs_background": "light"
     },
     "output_type": "display_data"
    },
    {
     "data": {
      "image/png": "[encoded data removed]",
      "text/plain": [
       "<Figure size 720x360 with 2 Axes>"
      ]
     },
     "metadata": {
      "needs_background": "light"
     },
     "output_type": "display_data"
    }
   ],
   "source": [
    "#initial parameters for mcmc\n",
    "a_true = 0.2\n",
    "s_true = 1.7\n",
    "l_true = 2\n",
    "m_true = np.mean(y[:30]) #np.mean(y[:int(len(y)/3)]) + np.mean(y[-int(len(y)/3):]) \n",
    "    \n",
    "print(x)\n",
    "plt.plot(gmodel(x, a_true, s_true, l_true, 0* offset_fctr, 1 * offset_fctr))\n",
    "    \n",
    "post_y = y - gmodel(x, a_true, s_true, l_true, 0* offset_fctr, 1 * offset_fctr)\n",
    "    \n",
    "fig, ax = plt.subplots(1,2, figsize=(10,5))\n",
    "ax[0].plot(x, y, color='k')\n",
    "ax[1].plot(x, post_y, color='k')\n",
    "\n",
    "flrtime = 2454833 - time2[flr]\n",
    "\n",
    "ax[0].set_title('Ringing')\n",
    "ax[0].set_xlabel('BJD - {0:.3f} (days)'.format(flrtime))\n",
    "ax[0].set_ylabel('Standardized Flux')\n",
    "ax[0].ticklabel_format(useOffset=False, style='plain')\n",
    "\n",
    "\n",
    "ax[1].set_title('Gabor-Filtered Ringing')\n",
    "ax[1].set_xlabel('BJD - {0:.3f} (days)'.format(flrtime))\n",
    "ax[1].yaxis.tick_right()\n",
    "ax[1].ticklabel_format(useOffset=False, style='plain')\n",
    "    \n",
    "print('Ringing amp as fraction of signal: {}'.format(np.abs(post_y.min()/post_y.max())))\n",
    "    \n",
    "plt.show()"
   ]
  },
  {
   "cell_type": "code",
   "execution_count": 42,
   "metadata": {
    "ExecuteTime": {
     "end_time": "2021-07-02T19:12:03.710997Z",
     "start_time": "2021-07-02T19:12:03.652990Z"
    }
   },
   "outputs": [],
   "source": [
    "LCHAIN = 200\n",
    "def gabor_mcmc(time, lightcurve, flare_ind, plotting=False, verbose=False):\n",
    "\n",
    "    y = lightcurve[flare_ind-50:flare_ind+50]\n",
    "    x = np.arange(-len(y)/2,len(y)/2)\n",
    "    print(flrmask)\n",
    "    offset_fctr = np.nanmean(np.diff(time))\n",
    "    a_true = 0.2\n",
    "    s_true = 5\n",
    "    l_true = 2\n",
    "    m_true = (np.mean(y[:int(len(y)/3)]) + np.mean(y[-int(len(y)/3):]) ) / 2\n",
    "    offset1_true = 0 * offset_fctr\n",
    "    offset2_true = 1 * offset_fctr\n",
    "    n=10\n",
    "    \n",
    "\n",
    "    def log_likelihood(theta, x, y):\n",
    "        if len(theta) == 3:\n",
    "            a,s,l = theta\n",
    "            offset1 = offset1_true\n",
    "            offset2 = offset2_true\n",
    "        if len(theta) == 5:\n",
    "            a, s, l, offset1, offset2 = theta\n",
    "            # m, \n",
    "            \n",
    "\n",
    "        model = gmodel(x,a,s,l,#m,\n",
    "                       offset1,offset2)\n",
    "        f, ax = plt.subplots(1,2)\n",
    "        #ax[0].plot(x, y, color='b')\n",
    "        #ax[0].plot(x, y - gmodel(x, a,s,l,offset1* offset_fctr,offset2* offset_fctr), \n",
    "                 #color='k')\n",
    "        yred = y - model\n",
    "        #plt.plot(yred)\n",
    "        pred = np.zeros_like(yred[flrmask]) +\\\n",
    "                (np.mean(y[:int(len(y)/3)]) + np.mean(y[-int(len(y)/3):]) ) / 2 # put NaNs in here @ flare\n",
    "        #ax[1].plot(yred[flrmask])\n",
    "        #ax[1].plot(pred)\n",
    "        #ax[1].plot(gmodel(x, a,s,l,offset1* offset_fctr,offset2* offset_fctr))\n",
    "        #ax[0].set_title(\"%.5f\"%(-0.5 * np.nansum((yred[flrmask] - pred) ** 2)) )\n",
    "        #plt.show()\n",
    "        \n",
    "        return -0.5 * np.nansum((yred[flrmask] - pred) ** 2)\n",
    "    \n",
    "    nll = lambda *args: -log_likelihood(*args)\n",
    "    initial = np.array([a_true, s_true, l_true#, m_true\n",
    "                       ]) + 0.1 * np.random.randn(3)\n",
    "    soln = minimize(nll, initial, args=(x, y))\n",
    "    a_ml, s_ml, l_ml = soln.x\n",
    "    #, m_ml \n",
    "    \n",
    "\n",
    "    print(\"Maximum likelihood estimates:\")\n",
    "    print(\"a = {0:.3f}\".format(a_ml))\n",
    "    print(\"s = {0:.3f}\".format(s_ml))\n",
    "    print(\"l = {0:.3f}\".format(l_ml))\n",
    "    #print(\"m = {0:.3f}\".format(m_ml))\n",
    "\n",
    "    def log_prior(theta):\n",
    "        a, s, l, offset1, offset2 = theta\n",
    "        #print(theta)\n",
    "#         a = np.abs(a)\n",
    "#         l = np.abs(l)\n",
    "#         s = np.abs(s)\n",
    "#         #m = np.abs(m)\n",
    "        if not (0.0 < a < 5.0) :\n",
    "            if verbose: print('hit prior a!', a)\n",
    "            return -np.inf\n",
    "        if not (0.0 < s < 10.0) :\n",
    "            if verbose: print('hit prior s!', s)\n",
    "            return -np.inf\n",
    "        if not(0.0 < l < 20.0) :\n",
    "            if verbose: print('hit prior l!', l)\n",
    "            return -np.inf\n",
    "#         if not(0.0 < m < 5.0):\n",
    "#             if verbose: print('hit prior m!', m)\n",
    "#             return -np.inf\n",
    "        if not(0 < offset1 < (10 * offset_fctr)):\n",
    "            if verbose: print('hit prior of1!', offset1)\n",
    "            return -np.inf\n",
    "        if not( 0 < offset2 < (10 * offset_fctr)):\n",
    "            if verbose: print('hit prior of2!', offset1)\n",
    "            return -np.inf\n",
    "        \n",
    "        return 0.0\n",
    "    \n",
    "    def log_probability(theta, x, y):\n",
    "        lp = log_prior(theta)\n",
    "        if not np.isfinite(lp):\n",
    "            return -np.inf\n",
    "        return lp + log_likelihood(theta, x, y)\n",
    "    \n",
    "    soln6 = np.append(soln.x, [offset1_true, offset2_true])\n",
    "    \n",
    "    ###MCMC\n",
    "    pos = soln6 + 1e-2 * np.random.randn(128, 5)\n",
    "    nwalkers, ndim = pos.shape\n",
    "    print(nwalkers, ndim)\n",
    "    sampler = emcee.EnsembleSampler(nwalkers, ndim, log_probability, args=(x, y))\n",
    "    sampler.run_mcmc(pos, LCHAIN, progress=True);\n",
    "    \n",
    "    if plotting:\n",
    "        fig, axes = plt.subplots(ndim, figsize=(10, 7), sharex=True)\n",
    "        samples = sampler.get_chain()\n",
    "        labels = [\"a\", \"s\", \"l\", \"offset1\", \"offset2\"]\n",
    "        for i in range(ndim):\n",
    "            ax = axes[i]\n",
    "            ax.plot(samples[:, :, i], \"k\", alpha=0.3)\n",
    "            ax.set_xlim(0, len(samples))\n",
    "            ax.set_ylabel(labels[i])\n",
    "            ax.yaxis.set_label_coords(-0.1, 0.5)\n",
    "\n",
    "        axes[-1].set_xlabel(\"step number\")\n",
    "    \n",
    "    flat_samples = sampler.get_chain(discard=100, thin=15, flat=True)\n",
    "    flat_samples[:,4:] /= offset_fctr\n",
    "    \n",
    "    ###Corner plots\n",
    "    if plotting:\n",
    "        fig = corner.corner(flat_samples, labels=labels, \n",
    "                            truths=[a_ml, s_ml, l_ml,# m_ml, \n",
    "                                    offset1_true / offset_fctr, \n",
    "                                    offset2_true / offset_fctr])\n",
    "\n",
    "        axes = np.array(fig.axes).reshape((ndim,ndim))\n",
    "\n",
    "        for ax in fig.get_axes():\n",
    "            ax.xaxis.label.set_size(24)\n",
    "            ax.yaxis.label.set_size(24)\n",
    "        \n",
    "        from IPython.display import display, Math\n",
    "\n",
    "        for i in range(ndim):\n",
    "            mcmc = np.percentile(flat_samples[:, i], [16, 50, 84])\n",
    "            q = np.diff(mcmc)\n",
    "            txt = \"\\mathrm{{{3}}} = {0:.3f}_{{-{1:.3f}}}^{{{2:.3f}}}\"\n",
    "            if \"offset\" in labels[i]:\n",
    "                txt = txt.format(mcmc[1], q[0], q[1], labels[i])\n",
    "            else:\n",
    "                txt = txt.format(mcmc[1], q[0], q[1], labels[i])\n",
    "            display(Math(txt))\n",
    "        \n",
    "    a_fit = np.percentile(flat_samples[:, 0], 50)\n",
    "    s_fit = np.percentile(flat_samples[:, 1], 50)\n",
    "    l_fit = np.percentile(flat_samples[:, 2], 50)\n",
    "    #m_fit = np.percentile(flat_samples[:, 3], 50)\n",
    "    off1_fit = np.percentile(flat_samples[:, 3], 50)\n",
    "    off2_fit = np.percentile(flat_samples[:, 4], 50)\n",
    "    \n",
    "    if plotting:\n",
    "\n",
    "        fig, ax = plt.subplots(1,2, figsize=(10,5))\n",
    "        ax[0].plot(x, y, color='k')\n",
    "        ax[1].plot(x, y - gmodel(x, a_fit, s_fit, l_fit, off1_fit * offset_fctr, off2_fit * offset_fctr), color='k')\n",
    "\n",
    "        flrtime = 2454833 - time2[peakind]\n",
    "\n",
    "        ax[0].set_title('Ringing')\n",
    "        ax[0].set_xlabel('BJD - {0:.3f} (days)'.format(flrtime))\n",
    "        ax[0].set_ylabel('Standardized Flux')\n",
    "        #ax[0].set_ylim(-75,300)\n",
    "\n",
    "        ax[1].set_title('Gabor-Filtered Ringing')\n",
    "        ax[1].set_yticks([])\n",
    "        ax[1].set_xlabel('BJD - {0:.3f} (days)'.format(flrtime))\n",
    "        #ax[1].set_ylim(-75,300)\n",
    "        \n",
    "    return y - gmodel(x, a_fit, s_fit, l_fit, off1_fit * offset_fctr, off2_fit * offset_fctr), \\\n",
    "        gmodel(x, a_fit, s_fit, l_fit, off1_fit * offset_fctr, off2_fit * offset_fctr)"
   ]
  },
  {
   "cell_type": "code",
   "execution_count": null,
   "metadata": {
    "ExecuteTime": {
     "start_time": "2021-07-02T19:12:04.610Z"
    }
   },
   "outputs": [
    {
     "name": "stdout",
     "output_type": "stream",
     "text": [
      "[ True  True  True  True  True  True  True  True  True  True  True  True\n",
      "  True  True  True  True  True  True  True  True  True  True  True  True\n",
      "  True  True  True  True  True  True  True  True  True  True  True  True\n",
      "  True  True  True  True  True  True  True  True  True  True  True  True\n",
      "  True False False False  True  True  True  True  True  True  True  True\n",
      "  True  True  True  True  True  True  True  True  True  True  True  True\n",
      "  True  True  True  True  True  True  True  True  True  True  True  True\n",
      "  True  True  True  True  True  True  True  True  True  True  True  True\n",
      "  True  True  True  True]\n",
      "Maximum likelihood estimates:\n",
      "a = 0.022\n",
      "s = 4.021\n",
      "l = 1.875\n",
      "128 5\n"
     ]
    },
    {
     "name": "stderr",
     "output_type": "stream",
     "text": [
      "  8%|▊         | 16/200 [00:39<09:22,  3.06s/it]"
     ]
    },
    {
     "name": "stdout",
     "output_type": "stream",
     "text": [
      "emcee: Exception while calling your likelihood function:\n",
      "  params: [0.02158875 4.04051485 1.87456996 0.05666011 0.02137117]\n",
      "  args: (array([-50., -49., -48., -47., -46., -45., -44., -43., -42., -41., -40.,\n",
      "       -39., -38., -37., -36., -35., -34., -33., -32., -31., -30., -29.,\n",
      "       -28., -27., -26., -25., -24., -23., -22., -21., -20., -19., -18.,\n",
      "       -17., -16., -15., -14., -13., -12., -11., -10.,  -9.,  -8.,  -7.,\n",
      "        -6.,  -5.,  -4.,  -3.,  -2.,  -1.,   0.,   1.,   2.,   3.,   4.,\n",
      "         5.,   6.,   7.,   8.,   9.,  10.,  11.,  12.,  13.,  14.,  15.,\n",
      "        16.,  17.,  18.,  19.,  20.,  21.,  22.,  23.,  24.,  25.,  26.,\n",
      "        27.,  28.,  29.,  30.,  31.,  32.,  33.,  34.,  35.,  36.,  37.,\n",
      "        38.,  39.,  40.,  41.,  42.,  43.,  44.,  45.,  46.,  47.,  48.,\n",
      "        49.]), array([ 2.71201722e-02,  9.51617701e-03,  1.23052508e-02, -1.46162947e-02,\n",
      "        1.97759280e-02,  1.40152471e-02,  3.00442422e-02,  2.22706645e-02,\n",
      "        1.38450010e-02, -2.52290062e-03,  1.10132021e-02,  2.11137150e-03,\n",
      "        2.09881492e-02, -5.16468225e-04,  2.01133646e-02,  4.93735898e-03,\n",
      "        2.04834832e-02,  9.99305708e-03,  1.89374093e-02,  4.35020668e-03,\n",
      "        3.11473478e-02,  4.67152730e-03,  2.30977397e-02,  1.16434239e-04,\n",
      "        2.67937784e-02,  7.90306237e-03,  1.78788549e-02,  4.49240137e-03,\n",
      "        3.75077848e-02,  8.31899981e-03,  3.04270312e-02, -3.34942295e-03,\n",
      "        3.23847921e-02, -7.78965402e-04,  3.60540844e-02, -2.45090132e-03,\n",
      "        3.08414881e-02, -8.01107552e-03,  3.58656348e-02, -1.00721042e-02,\n",
      "        4.37295161e-02, -7.77183507e-03,  5.48561866e-02, -2.73551343e-02,\n",
      "        6.09816494e-02, -2.33286658e-02,  7.78721551e-02, -5.15186287e-02,\n",
      "        1.38011375e-01, -1.57397267e-01,  6.35483207e-01,  4.56160082e-01,\n",
      "       -1.39457985e-01,  1.11800835e-01, -7.11993416e-02,  6.47149026e-02,\n",
      "       -2.17888749e-02,  7.33183134e-02, -1.30975738e-02,  4.35282833e-02,\n",
      "       -4.62034307e-04,  5.38840778e-02, -5.74795033e-03,  4.01954456e-02,\n",
      "       -2.43368326e-03,  4.12480526e-02,  6.02021320e-03,  4.11167655e-02,\n",
      "        1.00109217e-02,  4.08134022e-02,  1.08702780e-02,  2.91140658e-02,\n",
      "        1.31226091e-02,  2.78824314e-02,  7.42700291e-03,  2.48634264e-02,\n",
      "        7.15406578e-03,  3.06115716e-02,  8.93897765e-03,  2.73928634e-02,\n",
      "        1.85558248e-02,  2.12099446e-02,  2.24209560e-02,  3.54071141e-02,\n",
      "        2.00337816e-02,  2.57065190e-02, -4.53203224e-03,  1.28137558e-02,\n",
      "        5.35279257e-03,  1.87865040e-02,  1.18781686e-02,  1.40129881e-02,\n",
      "        5.71046766e-03,  1.72598475e-02,  7.32317579e-03,  2.59517785e-02,\n",
      "        5.18305006e-03,  2.03337821e-02, -8.38951605e-04,  1.99505612e-02]))\n",
      "  kwargs: {}\n",
      "  exception:\n"
     ]
    },
    {
     "name": "stderr",
     "output_type": "stream",
     "text": [
      "Traceback (most recent call last):\n",
      "  File \"/Users/fbb/anaconda3/lib/python3.7/site-packages/emcee/ensemble.py\", line 619, in __call__\n",
      "    return self.f(x, *self.args, **self.kwargs)\n",
      "  File \"<ipython-input-42-fe41e27b87e8>\", line 91, in log_probability\n",
      "    return lp + log_likelihood(theta, x, y)\n",
      "  File \"<ipython-input-42-fe41e27b87e8>\", line 29, in log_likelihood\n",
      "    f, ax = plt.subplots(1,2)\n",
      "  File \"/Users/fbb/anaconda3/lib/python3.7/site-packages/matplotlib/pyplot.py\", line 1220, in subplots\n",
      "    gridspec_kw=gridspec_kw)\n",
      "  File \"/Users/fbb/anaconda3/lib/python3.7/site-packages/matplotlib/figure.py\", line 1529, in subplots\n",
      "    axarr[row, col] = self.add_subplot(gs[row, col], **subplot_kw)\n",
      "  File \"/Users/fbb/anaconda3/lib/python3.7/site-packages/matplotlib/figure.py\", line 1367, in add_subplot\n",
      "    a = subplot_class_factory(projection_class)(self, *args, **kwargs)\n",
      "  File \"/Users/fbb/anaconda3/lib/python3.7/site-packages/matplotlib/axes/_subplots.py\", line 70, in __init__\n",
      "    self._axes_class.__init__(self, fig, self.figbox, **kwargs)\n",
      "  File \"/Users/fbb/anaconda3/lib/python3.7/site-packages/matplotlib/axes/_base.py\", line 479, in __init__\n",
      "    self.spines = self._gen_axes_spines()\n",
      "  File \"/Users/fbb/anaconda3/lib/python3.7/site-packages/matplotlib/axes/_base.py\", line 961, in _gen_axes_spines\n",
      "    for side in ['left', 'right', 'bottom', 'top'])\n",
      "  File \"/Users/fbb/anaconda3/lib/python3.7/site-packages/matplotlib/axes/_base.py\", line 961, in <genexpr>\n",
      "    for side in ['left', 'right', 'bottom', 'top'])\n",
      "  File \"/Users/fbb/anaconda3/lib/python3.7/site-packages/matplotlib/spines.py\", line 501, in linear_spine\n",
      "    result = cls(axes, spine_type, path, **kwargs)\n",
      "  File \"/Users/fbb/anaconda3/lib/python3.7/site-packages/matplotlib/spines.py\", line 52, in __init__\n",
      "    self.set_linewidth(rcParams['axes.linewidth'])\n",
      "  File \"/Users/fbb/anaconda3/lib/python3.7/site-packages/matplotlib/__init__.py\", line 894, in __getitem__\n",
      "    return dict.__getitem__(self, key)\n",
      "KeyboardInterrupt\n",
      "\n"
     ]
    },
    {
     "ename": "KeyboardInterrupt",
     "evalue": "",
     "output_type": "error",
     "traceback": [
      "\u001b[0;31m---------------------------------------------------------------------------\u001b[0m",
      "\u001b[0;31mKeyboardInterrupt\u001b[0m                         Traceback (most recent call last)",
      "\u001b[0;32m<ipython-input-43-523f7ae58e0f>\u001b[0m in \u001b[0;36m<module>\u001b[0;34m\u001b[0m\n\u001b[1;32m      1\u001b[0m \u001b[0;34m\u001b[0m\u001b[0m\n\u001b[1;32m      2\u001b[0m \u001b[0;34m\u001b[0m\u001b[0m\n\u001b[0;32m----> 3\u001b[0;31m \u001b[0mpost_y\u001b[0m\u001b[0;34m,\u001b[0m \u001b[0mg\u001b[0m \u001b[0;34m=\u001b[0m \u001b[0mgabor_mcmc\u001b[0m\u001b[0;34m(\u001b[0m\u001b[0mbjds\u001b[0m\u001b[0;34m[\u001b[0m\u001b[0mlc\u001b[0m\u001b[0;34m]\u001b[0m\u001b[0;34m,\u001b[0m \u001b[0mprocessed\u001b[0m\u001b[0;34m[\u001b[0m\u001b[0mlc\u001b[0m\u001b[0;34m]\u001b[0m\u001b[0;34m,\u001b[0m \u001b[0mflr\u001b[0m\u001b[0;34m,\u001b[0m \u001b[0mplotting\u001b[0m\u001b[0;34m=\u001b[0m\u001b[0;32mTrue\u001b[0m\u001b[0;34m)\u001b[0m\u001b[0;34m\u001b[0m\u001b[0;34m\u001b[0m\u001b[0m\n\u001b[0m\u001b[1;32m      4\u001b[0m \u001b[0;34m\u001b[0m\u001b[0m\n\u001b[1;32m      5\u001b[0m \u001b[0mplt\u001b[0m\u001b[0;34m.\u001b[0m\u001b[0mfigure\u001b[0m\u001b[0;34m(\u001b[0m\u001b[0;34m)\u001b[0m\u001b[0;34m\u001b[0m\u001b[0;34m\u001b[0m\u001b[0m\n",
      "\u001b[0;32m<ipython-input-42-fe41e27b87e8>\u001b[0m in \u001b[0;36mgabor_mcmc\u001b[0;34m(time, lightcurve, flare_ind, plotting, verbose)\u001b[0m\n\u001b[1;32m     98\u001b[0m     \u001b[0mprint\u001b[0m\u001b[0;34m(\u001b[0m\u001b[0mnwalkers\u001b[0m\u001b[0;34m,\u001b[0m \u001b[0mndim\u001b[0m\u001b[0;34m)\u001b[0m\u001b[0;34m\u001b[0m\u001b[0;34m\u001b[0m\u001b[0m\n\u001b[1;32m     99\u001b[0m     \u001b[0msampler\u001b[0m \u001b[0;34m=\u001b[0m \u001b[0memcee\u001b[0m\u001b[0;34m.\u001b[0m\u001b[0mEnsembleSampler\u001b[0m\u001b[0;34m(\u001b[0m\u001b[0mnwalkers\u001b[0m\u001b[0;34m,\u001b[0m \u001b[0mndim\u001b[0m\u001b[0;34m,\u001b[0m \u001b[0mlog_probability\u001b[0m\u001b[0;34m,\u001b[0m \u001b[0margs\u001b[0m\u001b[0;34m=\u001b[0m\u001b[0;34m(\u001b[0m\u001b[0mx\u001b[0m\u001b[0;34m,\u001b[0m \u001b[0my\u001b[0m\u001b[0;34m)\u001b[0m\u001b[0;34m)\u001b[0m\u001b[0;34m\u001b[0m\u001b[0;34m\u001b[0m\u001b[0m\n\u001b[0;32m--> 100\u001b[0;31m     \u001b[0msampler\u001b[0m\u001b[0;34m.\u001b[0m\u001b[0mrun_mcmc\u001b[0m\u001b[0;34m(\u001b[0m\u001b[0mpos\u001b[0m\u001b[0;34m,\u001b[0m \u001b[0mLCHAIN\u001b[0m\u001b[0;34m,\u001b[0m \u001b[0mprogress\u001b[0m\u001b[0;34m=\u001b[0m\u001b[0;32mTrue\u001b[0m\u001b[0;34m)\u001b[0m\u001b[0;34m;\u001b[0m\u001b[0;34m\u001b[0m\u001b[0;34m\u001b[0m\u001b[0m\n\u001b[0m\u001b[1;32m    101\u001b[0m \u001b[0;34m\u001b[0m\u001b[0m\n\u001b[1;32m    102\u001b[0m     \u001b[0;32mif\u001b[0m \u001b[0mplotting\u001b[0m\u001b[0;34m:\u001b[0m\u001b[0;34m\u001b[0m\u001b[0;34m\u001b[0m\u001b[0m\n",
      "\u001b[0;32m~/anaconda3/lib/python3.7/site-packages/emcee/ensemble.py\u001b[0m in \u001b[0;36mrun_mcmc\u001b[0;34m(self, initial_state, nsteps, **kwargs)\u001b[0m\n\u001b[1;32m    436\u001b[0m \u001b[0;34m\u001b[0m\u001b[0m\n\u001b[1;32m    437\u001b[0m         \u001b[0mresults\u001b[0m \u001b[0;34m=\u001b[0m \u001b[0;32mNone\u001b[0m\u001b[0;34m\u001b[0m\u001b[0;34m\u001b[0m\u001b[0m\n\u001b[0;32m--> 438\u001b[0;31m         \u001b[0;32mfor\u001b[0m \u001b[0mresults\u001b[0m \u001b[0;32min\u001b[0m \u001b[0mself\u001b[0m\u001b[0;34m.\u001b[0m\u001b[0msample\u001b[0m\u001b[0;34m(\u001b[0m\u001b[0minitial_state\u001b[0m\u001b[0;34m,\u001b[0m \u001b[0miterations\u001b[0m\u001b[0;34m=\u001b[0m\u001b[0mnsteps\u001b[0m\u001b[0;34m,\u001b[0m \u001b[0;34m**\u001b[0m\u001b[0mkwargs\u001b[0m\u001b[0;34m)\u001b[0m\u001b[0;34m:\u001b[0m\u001b[0;34m\u001b[0m\u001b[0;34m\u001b[0m\u001b[0m\n\u001b[0m\u001b[1;32m    439\u001b[0m             \u001b[0;32mpass\u001b[0m\u001b[0;34m\u001b[0m\u001b[0;34m\u001b[0m\u001b[0m\n\u001b[1;32m    440\u001b[0m \u001b[0;34m\u001b[0m\u001b[0m\n",
      "\u001b[0;32m~/anaconda3/lib/python3.7/site-packages/emcee/ensemble.py\u001b[0m in \u001b[0;36msample\u001b[0;34m(self, initial_state, log_prob0, rstate0, blobs0, iterations, tune, skip_initial_state_check, thin_by, thin, store, progress)\u001b[0m\n\u001b[1;32m    395\u001b[0m \u001b[0;34m\u001b[0m\u001b[0m\n\u001b[1;32m    396\u001b[0m                     \u001b[0;31m# Propose\u001b[0m\u001b[0;34m\u001b[0m\u001b[0;34m\u001b[0m\u001b[0;34m\u001b[0m\u001b[0m\n\u001b[0;32m--> 397\u001b[0;31m                     \u001b[0mstate\u001b[0m\u001b[0;34m,\u001b[0m \u001b[0maccepted\u001b[0m \u001b[0;34m=\u001b[0m \u001b[0mmove\u001b[0m\u001b[0;34m.\u001b[0m\u001b[0mpropose\u001b[0m\u001b[0;34m(\u001b[0m\u001b[0mmodel\u001b[0m\u001b[0;34m,\u001b[0m \u001b[0mstate\u001b[0m\u001b[0;34m)\u001b[0m\u001b[0;34m\u001b[0m\u001b[0;34m\u001b[0m\u001b[0m\n\u001b[0m\u001b[1;32m    398\u001b[0m                     \u001b[0mstate\u001b[0m\u001b[0;34m.\u001b[0m\u001b[0mrandom_state\u001b[0m \u001b[0;34m=\u001b[0m \u001b[0mself\u001b[0m\u001b[0;34m.\u001b[0m\u001b[0mrandom_state\u001b[0m\u001b[0;34m\u001b[0m\u001b[0;34m\u001b[0m\u001b[0m\n\u001b[1;32m    399\u001b[0m \u001b[0;34m\u001b[0m\u001b[0m\n",
      "\u001b[0;32m~/anaconda3/lib/python3.7/site-packages/emcee/moves/red_blue.py\u001b[0m in \u001b[0;36mpropose\u001b[0;34m(self, model, state)\u001b[0m\n\u001b[1;32m     91\u001b[0m \u001b[0;34m\u001b[0m\u001b[0m\n\u001b[1;32m     92\u001b[0m             \u001b[0;31m# Compute the lnprobs of the proposed position.\u001b[0m\u001b[0;34m\u001b[0m\u001b[0;34m\u001b[0m\u001b[0;34m\u001b[0m\u001b[0m\n\u001b[0;32m---> 93\u001b[0;31m             \u001b[0mnew_log_probs\u001b[0m\u001b[0;34m,\u001b[0m \u001b[0mnew_blobs\u001b[0m \u001b[0;34m=\u001b[0m \u001b[0mmodel\u001b[0m\u001b[0;34m.\u001b[0m\u001b[0mcompute_log_prob_fn\u001b[0m\u001b[0;34m(\u001b[0m\u001b[0mq\u001b[0m\u001b[0;34m)\u001b[0m\u001b[0;34m\u001b[0m\u001b[0;34m\u001b[0m\u001b[0m\n\u001b[0m\u001b[1;32m     94\u001b[0m \u001b[0;34m\u001b[0m\u001b[0m\n\u001b[1;32m     95\u001b[0m             \u001b[0;31m# Loop over the walkers and update them accordingly.\u001b[0m\u001b[0;34m\u001b[0m\u001b[0;34m\u001b[0m\u001b[0;34m\u001b[0m\u001b[0m\n",
      "\u001b[0;32m~/anaconda3/lib/python3.7/site-packages/emcee/ensemble.py\u001b[0m in \u001b[0;36mcompute_log_prob\u001b[0;34m(self, coords)\u001b[0m\n\u001b[1;32m    482\u001b[0m             \u001b[0;32melse\u001b[0m\u001b[0;34m:\u001b[0m\u001b[0;34m\u001b[0m\u001b[0;34m\u001b[0m\u001b[0m\n\u001b[1;32m    483\u001b[0m                 \u001b[0mmap_func\u001b[0m \u001b[0;34m=\u001b[0m \u001b[0mmap\u001b[0m\u001b[0;34m\u001b[0m\u001b[0;34m\u001b[0m\u001b[0m\n\u001b[0;32m--> 484\u001b[0;31m             \u001b[0mresults\u001b[0m \u001b[0;34m=\u001b[0m \u001b[0mlist\u001b[0m\u001b[0;34m(\u001b[0m\u001b[0mmap_func\u001b[0m\u001b[0;34m(\u001b[0m\u001b[0mself\u001b[0m\u001b[0;34m.\u001b[0m\u001b[0mlog_prob_fn\u001b[0m\u001b[0;34m,\u001b[0m \u001b[0mp\u001b[0m\u001b[0;34m)\u001b[0m\u001b[0;34m)\u001b[0m\u001b[0;34m\u001b[0m\u001b[0;34m\u001b[0m\u001b[0m\n\u001b[0m\u001b[1;32m    485\u001b[0m \u001b[0;34m\u001b[0m\u001b[0m\n\u001b[1;32m    486\u001b[0m         \u001b[0;32mtry\u001b[0m\u001b[0;34m:\u001b[0m\u001b[0;34m\u001b[0m\u001b[0;34m\u001b[0m\u001b[0m\n",
      "\u001b[0;32m~/anaconda3/lib/python3.7/site-packages/emcee/ensemble.py\u001b[0m in \u001b[0;36m__call__\u001b[0;34m(self, x)\u001b[0m\n\u001b[1;32m    617\u001b[0m     \u001b[0;32mdef\u001b[0m \u001b[0m__call__\u001b[0m\u001b[0;34m(\u001b[0m\u001b[0mself\u001b[0m\u001b[0;34m,\u001b[0m \u001b[0mx\u001b[0m\u001b[0;34m)\u001b[0m\u001b[0;34m:\u001b[0m\u001b[0;34m\u001b[0m\u001b[0;34m\u001b[0m\u001b[0m\n\u001b[1;32m    618\u001b[0m         \u001b[0;32mtry\u001b[0m\u001b[0;34m:\u001b[0m\u001b[0;34m\u001b[0m\u001b[0;34m\u001b[0m\u001b[0m\n\u001b[0;32m--> 619\u001b[0;31m             \u001b[0;32mreturn\u001b[0m \u001b[0mself\u001b[0m\u001b[0;34m.\u001b[0m\u001b[0mf\u001b[0m\u001b[0;34m(\u001b[0m\u001b[0mx\u001b[0m\u001b[0;34m,\u001b[0m \u001b[0;34m*\u001b[0m\u001b[0mself\u001b[0m\u001b[0;34m.\u001b[0m\u001b[0margs\u001b[0m\u001b[0;34m,\u001b[0m \u001b[0;34m**\u001b[0m\u001b[0mself\u001b[0m\u001b[0;34m.\u001b[0m\u001b[0mkwargs\u001b[0m\u001b[0;34m)\u001b[0m\u001b[0;34m\u001b[0m\u001b[0;34m\u001b[0m\u001b[0m\n\u001b[0m\u001b[1;32m    620\u001b[0m         \u001b[0;32mexcept\u001b[0m\u001b[0;34m:\u001b[0m  \u001b[0;31m# pragma: no cover\u001b[0m\u001b[0;34m\u001b[0m\u001b[0;34m\u001b[0m\u001b[0m\n\u001b[1;32m    621\u001b[0m             \u001b[0;32mimport\u001b[0m \u001b[0mtraceback\u001b[0m\u001b[0;34m\u001b[0m\u001b[0;34m\u001b[0m\u001b[0m\n",
      "\u001b[0;32m<ipython-input-42-fe41e27b87e8>\u001b[0m in \u001b[0;36mlog_probability\u001b[0;34m(theta, x, y)\u001b[0m\n\u001b[1;32m     89\u001b[0m         \u001b[0;32mif\u001b[0m \u001b[0;32mnot\u001b[0m \u001b[0mnp\u001b[0m\u001b[0;34m.\u001b[0m\u001b[0misfinite\u001b[0m\u001b[0;34m(\u001b[0m\u001b[0mlp\u001b[0m\u001b[0;34m)\u001b[0m\u001b[0;34m:\u001b[0m\u001b[0;34m\u001b[0m\u001b[0;34m\u001b[0m\u001b[0m\n\u001b[1;32m     90\u001b[0m             \u001b[0;32mreturn\u001b[0m \u001b[0;34m-\u001b[0m\u001b[0mnp\u001b[0m\u001b[0;34m.\u001b[0m\u001b[0minf\u001b[0m\u001b[0;34m\u001b[0m\u001b[0;34m\u001b[0m\u001b[0m\n\u001b[0;32m---> 91\u001b[0;31m         \u001b[0;32mreturn\u001b[0m \u001b[0mlp\u001b[0m \u001b[0;34m+\u001b[0m \u001b[0mlog_likelihood\u001b[0m\u001b[0;34m(\u001b[0m\u001b[0mtheta\u001b[0m\u001b[0;34m,\u001b[0m \u001b[0mx\u001b[0m\u001b[0;34m,\u001b[0m \u001b[0my\u001b[0m\u001b[0;34m)\u001b[0m\u001b[0;34m\u001b[0m\u001b[0;34m\u001b[0m\u001b[0m\n\u001b[0m\u001b[1;32m     92\u001b[0m \u001b[0;34m\u001b[0m\u001b[0m\n\u001b[1;32m     93\u001b[0m     \u001b[0msoln6\u001b[0m \u001b[0;34m=\u001b[0m \u001b[0mnp\u001b[0m\u001b[0;34m.\u001b[0m\u001b[0mappend\u001b[0m\u001b[0;34m(\u001b[0m\u001b[0msoln\u001b[0m\u001b[0;34m.\u001b[0m\u001b[0mx\u001b[0m\u001b[0;34m,\u001b[0m \u001b[0;34m[\u001b[0m\u001b[0moffset1_true\u001b[0m\u001b[0;34m,\u001b[0m \u001b[0moffset2_true\u001b[0m\u001b[0;34m]\u001b[0m\u001b[0;34m)\u001b[0m\u001b[0;34m\u001b[0m\u001b[0;34m\u001b[0m\u001b[0m\n",
      "\u001b[0;32m<ipython-input-42-fe41e27b87e8>\u001b[0m in \u001b[0;36mlog_likelihood\u001b[0;34m(theta, x, y)\u001b[0m\n\u001b[1;32m     27\u001b[0m         model = gmodel(x,a,s,l,#m,\n\u001b[1;32m     28\u001b[0m                        offset1,offset2)\n\u001b[0;32m---> 29\u001b[0;31m         \u001b[0mf\u001b[0m\u001b[0;34m,\u001b[0m \u001b[0max\u001b[0m \u001b[0;34m=\u001b[0m \u001b[0mplt\u001b[0m\u001b[0;34m.\u001b[0m\u001b[0msubplots\u001b[0m\u001b[0;34m(\u001b[0m\u001b[0;36m1\u001b[0m\u001b[0;34m,\u001b[0m\u001b[0;36m2\u001b[0m\u001b[0;34m)\u001b[0m\u001b[0;34m\u001b[0m\u001b[0;34m\u001b[0m\u001b[0m\n\u001b[0m\u001b[1;32m     30\u001b[0m         \u001b[0;31m#ax[0].plot(x, y, color='b')\u001b[0m\u001b[0;34m\u001b[0m\u001b[0;34m\u001b[0m\u001b[0;34m\u001b[0m\u001b[0m\n\u001b[1;32m     31\u001b[0m         \u001b[0;31m#ax[0].plot(x, y - gmodel(x, a,s,l,offset1* offset_fctr,offset2* offset_fctr),\u001b[0m\u001b[0;34m\u001b[0m\u001b[0;34m\u001b[0m\u001b[0;34m\u001b[0m\u001b[0m\n",
      "\u001b[0;32m~/anaconda3/lib/python3.7/site-packages/matplotlib/pyplot.py\u001b[0m in \u001b[0;36msubplots\u001b[0;34m(nrows, ncols, sharex, sharey, squeeze, subplot_kw, gridspec_kw, **fig_kw)\u001b[0m\n\u001b[1;32m   1218\u001b[0m     axs = fig.subplots(nrows=nrows, ncols=ncols, sharex=sharex, sharey=sharey,\n\u001b[1;32m   1219\u001b[0m                        \u001b[0msqueeze\u001b[0m\u001b[0;34m=\u001b[0m\u001b[0msqueeze\u001b[0m\u001b[0;34m,\u001b[0m \u001b[0msubplot_kw\u001b[0m\u001b[0;34m=\u001b[0m\u001b[0msubplot_kw\u001b[0m\u001b[0;34m,\u001b[0m\u001b[0;34m\u001b[0m\u001b[0;34m\u001b[0m\u001b[0m\n\u001b[0;32m-> 1220\u001b[0;31m                        gridspec_kw=gridspec_kw)\n\u001b[0m\u001b[1;32m   1221\u001b[0m     \u001b[0;32mreturn\u001b[0m \u001b[0mfig\u001b[0m\u001b[0;34m,\u001b[0m \u001b[0maxs\u001b[0m\u001b[0;34m\u001b[0m\u001b[0;34m\u001b[0m\u001b[0m\n\u001b[1;32m   1222\u001b[0m \u001b[0;34m\u001b[0m\u001b[0m\n",
      "\u001b[0;32m~/anaconda3/lib/python3.7/site-packages/matplotlib/figure.py\u001b[0m in \u001b[0;36msubplots\u001b[0;34m(self, nrows, ncols, sharex, sharey, squeeze, subplot_kw, gridspec_kw)\u001b[0m\n\u001b[1;32m   1527\u001b[0m                 \u001b[0msubplot_kw\u001b[0m\u001b[0;34m[\u001b[0m\u001b[0;34m\"sharex\"\u001b[0m\u001b[0;34m]\u001b[0m \u001b[0;34m=\u001b[0m \u001b[0mshared_with\u001b[0m\u001b[0;34m[\u001b[0m\u001b[0msharex\u001b[0m\u001b[0;34m]\u001b[0m\u001b[0;34m\u001b[0m\u001b[0;34m\u001b[0m\u001b[0m\n\u001b[1;32m   1528\u001b[0m                 \u001b[0msubplot_kw\u001b[0m\u001b[0;34m[\u001b[0m\u001b[0;34m\"sharey\"\u001b[0m\u001b[0;34m]\u001b[0m \u001b[0;34m=\u001b[0m \u001b[0mshared_with\u001b[0m\u001b[0;34m[\u001b[0m\u001b[0msharey\u001b[0m\u001b[0;34m]\u001b[0m\u001b[0;34m\u001b[0m\u001b[0;34m\u001b[0m\u001b[0m\n\u001b[0;32m-> 1529\u001b[0;31m                 \u001b[0maxarr\u001b[0m\u001b[0;34m[\u001b[0m\u001b[0mrow\u001b[0m\u001b[0;34m,\u001b[0m \u001b[0mcol\u001b[0m\u001b[0;34m]\u001b[0m \u001b[0;34m=\u001b[0m \u001b[0mself\u001b[0m\u001b[0;34m.\u001b[0m\u001b[0madd_subplot\u001b[0m\u001b[0;34m(\u001b[0m\u001b[0mgs\u001b[0m\u001b[0;34m[\u001b[0m\u001b[0mrow\u001b[0m\u001b[0;34m,\u001b[0m \u001b[0mcol\u001b[0m\u001b[0;34m]\u001b[0m\u001b[0;34m,\u001b[0m \u001b[0;34m**\u001b[0m\u001b[0msubplot_kw\u001b[0m\u001b[0;34m)\u001b[0m\u001b[0;34m\u001b[0m\u001b[0;34m\u001b[0m\u001b[0m\n\u001b[0m\u001b[1;32m   1530\u001b[0m \u001b[0;34m\u001b[0m\u001b[0m\n\u001b[1;32m   1531\u001b[0m         \u001b[0;31m# turn off redundant tick labeling\u001b[0m\u001b[0;34m\u001b[0m\u001b[0;34m\u001b[0m\u001b[0;34m\u001b[0m\u001b[0m\n",
      "\u001b[0;32m~/anaconda3/lib/python3.7/site-packages/matplotlib/figure.py\u001b[0m in \u001b[0;36madd_subplot\u001b[0;34m(self, *args, **kwargs)\u001b[0m\n\u001b[1;32m   1365\u001b[0m                     \u001b[0mself\u001b[0m\u001b[0;34m.\u001b[0m\u001b[0m_axstack\u001b[0m\u001b[0;34m.\u001b[0m\u001b[0mremove\u001b[0m\u001b[0;34m(\u001b[0m\u001b[0max\u001b[0m\u001b[0;34m)\u001b[0m\u001b[0;34m\u001b[0m\u001b[0;34m\u001b[0m\u001b[0m\n\u001b[1;32m   1366\u001b[0m \u001b[0;34m\u001b[0m\u001b[0m\n\u001b[0;32m-> 1367\u001b[0;31m             \u001b[0ma\u001b[0m \u001b[0;34m=\u001b[0m \u001b[0msubplot_class_factory\u001b[0m\u001b[0;34m(\u001b[0m\u001b[0mprojection_class\u001b[0m\u001b[0;34m)\u001b[0m\u001b[0;34m(\u001b[0m\u001b[0mself\u001b[0m\u001b[0;34m,\u001b[0m \u001b[0;34m*\u001b[0m\u001b[0margs\u001b[0m\u001b[0;34m,\u001b[0m \u001b[0;34m**\u001b[0m\u001b[0mkwargs\u001b[0m\u001b[0;34m)\u001b[0m\u001b[0;34m\u001b[0m\u001b[0;34m\u001b[0m\u001b[0m\n\u001b[0m\u001b[1;32m   1368\u001b[0m         \u001b[0mself\u001b[0m\u001b[0;34m.\u001b[0m\u001b[0m_axstack\u001b[0m\u001b[0;34m.\u001b[0m\u001b[0madd\u001b[0m\u001b[0;34m(\u001b[0m\u001b[0mkey\u001b[0m\u001b[0;34m,\u001b[0m \u001b[0ma\u001b[0m\u001b[0;34m)\u001b[0m\u001b[0;34m\u001b[0m\u001b[0;34m\u001b[0m\u001b[0m\n\u001b[1;32m   1369\u001b[0m         \u001b[0mself\u001b[0m\u001b[0;34m.\u001b[0m\u001b[0msca\u001b[0m\u001b[0;34m(\u001b[0m\u001b[0ma\u001b[0m\u001b[0;34m)\u001b[0m\u001b[0;34m\u001b[0m\u001b[0;34m\u001b[0m\u001b[0m\n",
      "\u001b[0;32m~/anaconda3/lib/python3.7/site-packages/matplotlib/axes/_subplots.py\u001b[0m in \u001b[0;36m__init__\u001b[0;34m(self, fig, *args, **kwargs)\u001b[0m\n\u001b[1;32m     68\u001b[0m \u001b[0;34m\u001b[0m\u001b[0m\n\u001b[1;32m     69\u001b[0m         \u001b[0;31m# _axes_class is set in the subplot_class_factory\u001b[0m\u001b[0;34m\u001b[0m\u001b[0;34m\u001b[0m\u001b[0;34m\u001b[0m\u001b[0m\n\u001b[0;32m---> 70\u001b[0;31m         \u001b[0mself\u001b[0m\u001b[0;34m.\u001b[0m\u001b[0m_axes_class\u001b[0m\u001b[0;34m.\u001b[0m\u001b[0m__init__\u001b[0m\u001b[0;34m(\u001b[0m\u001b[0mself\u001b[0m\u001b[0;34m,\u001b[0m \u001b[0mfig\u001b[0m\u001b[0;34m,\u001b[0m \u001b[0mself\u001b[0m\u001b[0;34m.\u001b[0m\u001b[0mfigbox\u001b[0m\u001b[0;34m,\u001b[0m \u001b[0;34m**\u001b[0m\u001b[0mkwargs\u001b[0m\u001b[0;34m)\u001b[0m\u001b[0;34m\u001b[0m\u001b[0;34m\u001b[0m\u001b[0m\n\u001b[0m\u001b[1;32m     71\u001b[0m         \u001b[0;31m# add a layout box to this, for both the full axis, and the poss\u001b[0m\u001b[0;34m\u001b[0m\u001b[0;34m\u001b[0m\u001b[0;34m\u001b[0m\u001b[0m\n\u001b[1;32m     72\u001b[0m         \u001b[0;31m# of the axis.  We need both because the axes may become smaller\u001b[0m\u001b[0;34m\u001b[0m\u001b[0;34m\u001b[0m\u001b[0;34m\u001b[0m\u001b[0m\n",
      "\u001b[0;32m~/anaconda3/lib/python3.7/site-packages/matplotlib/axes/_base.py\u001b[0m in \u001b[0;36m__init__\u001b[0;34m(self, fig, rect, facecolor, frameon, sharex, sharey, label, xscale, yscale, **kwargs)\u001b[0m\n\u001b[1;32m    477\u001b[0m         \u001b[0mself\u001b[0m\u001b[0;34m.\u001b[0m\u001b[0mset_axes_locator\u001b[0m\u001b[0;34m(\u001b[0m\u001b[0mkwargs\u001b[0m\u001b[0;34m.\u001b[0m\u001b[0mget\u001b[0m\u001b[0;34m(\u001b[0m\u001b[0;34m\"axes_locator\"\u001b[0m\u001b[0;34m,\u001b[0m \u001b[0;32mNone\u001b[0m\u001b[0;34m)\u001b[0m\u001b[0;34m)\u001b[0m\u001b[0;34m\u001b[0m\u001b[0;34m\u001b[0m\u001b[0m\n\u001b[1;32m    478\u001b[0m \u001b[0;34m\u001b[0m\u001b[0m\n\u001b[0;32m--> 479\u001b[0;31m         \u001b[0mself\u001b[0m\u001b[0;34m.\u001b[0m\u001b[0mspines\u001b[0m \u001b[0;34m=\u001b[0m \u001b[0mself\u001b[0m\u001b[0;34m.\u001b[0m\u001b[0m_gen_axes_spines\u001b[0m\u001b[0;34m(\u001b[0m\u001b[0;34m)\u001b[0m\u001b[0;34m\u001b[0m\u001b[0;34m\u001b[0m\u001b[0m\n\u001b[0m\u001b[1;32m    480\u001b[0m \u001b[0;34m\u001b[0m\u001b[0m\n\u001b[1;32m    481\u001b[0m         \u001b[0;31m# this call may differ for non-sep axes, e.g., polar\u001b[0m\u001b[0;34m\u001b[0m\u001b[0;34m\u001b[0m\u001b[0;34m\u001b[0m\u001b[0m\n",
      "\u001b[0;32m~/anaconda3/lib/python3.7/site-packages/matplotlib/axes/_base.py\u001b[0m in \u001b[0;36m_gen_axes_spines\u001b[0;34m(self, locations, offset, units)\u001b[0m\n\u001b[1;32m    959\u001b[0m         \"\"\"\n\u001b[1;32m    960\u001b[0m         return OrderedDict((side, mspines.Spine.linear_spine(self, side))\n\u001b[0;32m--> 961\u001b[0;31m                            for side in ['left', 'right', 'bottom', 'top'])\n\u001b[0m\u001b[1;32m    962\u001b[0m \u001b[0;34m\u001b[0m\u001b[0m\n\u001b[1;32m    963\u001b[0m     \u001b[0;32mdef\u001b[0m \u001b[0mcla\u001b[0m\u001b[0;34m(\u001b[0m\u001b[0mself\u001b[0m\u001b[0;34m)\u001b[0m\u001b[0;34m:\u001b[0m\u001b[0;34m\u001b[0m\u001b[0;34m\u001b[0m\u001b[0m\n",
      "\u001b[0;32m~/anaconda3/lib/python3.7/site-packages/matplotlib/axes/_base.py\u001b[0m in \u001b[0;36m<genexpr>\u001b[0;34m(.0)\u001b[0m\n\u001b[1;32m    959\u001b[0m         \"\"\"\n\u001b[1;32m    960\u001b[0m         return OrderedDict((side, mspines.Spine.linear_spine(self, side))\n\u001b[0;32m--> 961\u001b[0;31m                            for side in ['left', 'right', 'bottom', 'top'])\n\u001b[0m\u001b[1;32m    962\u001b[0m \u001b[0;34m\u001b[0m\u001b[0m\n\u001b[1;32m    963\u001b[0m     \u001b[0;32mdef\u001b[0m \u001b[0mcla\u001b[0m\u001b[0;34m(\u001b[0m\u001b[0mself\u001b[0m\u001b[0;34m)\u001b[0m\u001b[0;34m:\u001b[0m\u001b[0;34m\u001b[0m\u001b[0;34m\u001b[0m\u001b[0m\n",
      "\u001b[0;32m~/anaconda3/lib/python3.7/site-packages/matplotlib/spines.py\u001b[0m in \u001b[0;36mlinear_spine\u001b[0;34m(cls, axes, spine_type, **kwargs)\u001b[0m\n\u001b[1;32m    499\u001b[0m         \u001b[0;32melse\u001b[0m\u001b[0;34m:\u001b[0m\u001b[0;34m\u001b[0m\u001b[0;34m\u001b[0m\u001b[0m\n\u001b[1;32m    500\u001b[0m             \u001b[0;32mraise\u001b[0m \u001b[0mValueError\u001b[0m\u001b[0;34m(\u001b[0m\u001b[0;34m'unable to make path for spine \"%s\"'\u001b[0m \u001b[0;34m%\u001b[0m \u001b[0mspine_type\u001b[0m\u001b[0;34m)\u001b[0m\u001b[0;34m\u001b[0m\u001b[0;34m\u001b[0m\u001b[0m\n\u001b[0;32m--> 501\u001b[0;31m         \u001b[0mresult\u001b[0m \u001b[0;34m=\u001b[0m \u001b[0mcls\u001b[0m\u001b[0;34m(\u001b[0m\u001b[0maxes\u001b[0m\u001b[0;34m,\u001b[0m \u001b[0mspine_type\u001b[0m\u001b[0;34m,\u001b[0m \u001b[0mpath\u001b[0m\u001b[0;34m,\u001b[0m \u001b[0;34m**\u001b[0m\u001b[0mkwargs\u001b[0m\u001b[0;34m)\u001b[0m\u001b[0;34m\u001b[0m\u001b[0;34m\u001b[0m\u001b[0m\n\u001b[0m\u001b[1;32m    502\u001b[0m         \u001b[0mresult\u001b[0m\u001b[0;34m.\u001b[0m\u001b[0mset_visible\u001b[0m\u001b[0;34m(\u001b[0m\u001b[0mrcParams\u001b[0m\u001b[0;34m[\u001b[0m\u001b[0;34m'axes.spines.{0}'\u001b[0m\u001b[0;34m.\u001b[0m\u001b[0mformat\u001b[0m\u001b[0;34m(\u001b[0m\u001b[0mspine_type\u001b[0m\u001b[0;34m)\u001b[0m\u001b[0;34m]\u001b[0m\u001b[0;34m)\u001b[0m\u001b[0;34m\u001b[0m\u001b[0;34m\u001b[0m\u001b[0m\n\u001b[1;32m    503\u001b[0m \u001b[0;34m\u001b[0m\u001b[0m\n",
      "\u001b[0;32m~/anaconda3/lib/python3.7/site-packages/matplotlib/spines.py\u001b[0m in \u001b[0;36m__init__\u001b[0;34m(self, axes, spine_type, path, **kwargs)\u001b[0m\n\u001b[1;32m     50\u001b[0m         \u001b[0mself\u001b[0m\u001b[0;34m.\u001b[0m\u001b[0mset_facecolor\u001b[0m\u001b[0;34m(\u001b[0m\u001b[0;34m'none'\u001b[0m\u001b[0;34m)\u001b[0m\u001b[0;34m\u001b[0m\u001b[0;34m\u001b[0m\u001b[0m\n\u001b[1;32m     51\u001b[0m         \u001b[0mself\u001b[0m\u001b[0;34m.\u001b[0m\u001b[0mset_edgecolor\u001b[0m\u001b[0;34m(\u001b[0m\u001b[0mrcParams\u001b[0m\u001b[0;34m[\u001b[0m\u001b[0;34m'axes.edgecolor'\u001b[0m\u001b[0;34m]\u001b[0m\u001b[0;34m)\u001b[0m\u001b[0;34m\u001b[0m\u001b[0;34m\u001b[0m\u001b[0m\n\u001b[0;32m---> 52\u001b[0;31m         \u001b[0mself\u001b[0m\u001b[0;34m.\u001b[0m\u001b[0mset_linewidth\u001b[0m\u001b[0;34m(\u001b[0m\u001b[0mrcParams\u001b[0m\u001b[0;34m[\u001b[0m\u001b[0;34m'axes.linewidth'\u001b[0m\u001b[0;34m]\u001b[0m\u001b[0;34m)\u001b[0m\u001b[0;34m\u001b[0m\u001b[0;34m\u001b[0m\u001b[0m\n\u001b[0m\u001b[1;32m     53\u001b[0m         \u001b[0mself\u001b[0m\u001b[0;34m.\u001b[0m\u001b[0mset_capstyle\u001b[0m\u001b[0;34m(\u001b[0m\u001b[0;34m'projecting'\u001b[0m\u001b[0;34m)\u001b[0m\u001b[0;34m\u001b[0m\u001b[0;34m\u001b[0m\u001b[0m\n\u001b[1;32m     54\u001b[0m         \u001b[0mself\u001b[0m\u001b[0;34m.\u001b[0m\u001b[0maxis\u001b[0m \u001b[0;34m=\u001b[0m \u001b[0;32mNone\u001b[0m\u001b[0;34m\u001b[0m\u001b[0;34m\u001b[0m\u001b[0m\n",
      "\u001b[0;32m~/anaconda3/lib/python3.7/site-packages/matplotlib/__init__.py\u001b[0m in \u001b[0;36m__getitem__\u001b[0;34m(self, key)\u001b[0m\n\u001b[1;32m    892\u001b[0m                 \u001b[0mplt\u001b[0m\u001b[0;34m.\u001b[0m\u001b[0mswitch_backend\u001b[0m\u001b[0;34m(\u001b[0m\u001b[0mrcsetup\u001b[0m\u001b[0;34m.\u001b[0m\u001b[0m_auto_backend_sentinel\u001b[0m\u001b[0;34m)\u001b[0m\u001b[0;34m\u001b[0m\u001b[0;34m\u001b[0m\u001b[0m\n\u001b[1;32m    893\u001b[0m \u001b[0;34m\u001b[0m\u001b[0m\n\u001b[0;32m--> 894\u001b[0;31m         \u001b[0;32mreturn\u001b[0m \u001b[0mdict\u001b[0m\u001b[0;34m.\u001b[0m\u001b[0m__getitem__\u001b[0m\u001b[0;34m(\u001b[0m\u001b[0mself\u001b[0m\u001b[0;34m,\u001b[0m \u001b[0mkey\u001b[0m\u001b[0;34m)\u001b[0m\u001b[0;34m\u001b[0m\u001b[0;34m\u001b[0m\u001b[0m\n\u001b[0m\u001b[1;32m    895\u001b[0m \u001b[0;34m\u001b[0m\u001b[0m\n\u001b[1;32m    896\u001b[0m     \u001b[0;32mdef\u001b[0m \u001b[0m__repr__\u001b[0m\u001b[0;34m(\u001b[0m\u001b[0mself\u001b[0m\u001b[0;34m)\u001b[0m\u001b[0;34m:\u001b[0m\u001b[0;34m\u001b[0m\u001b[0;34m\u001b[0m\u001b[0m\n",
      "\u001b[0;31mKeyboardInterrupt\u001b[0m: "
     ]
    }
   ],
   "source": [
    "\n",
    "\n",
    "post_y, g = gabor_mcmc(bjds[lc], processed[lc], flr, plotting=True)\n",
    "\n",
    "plt.figure()\n",
    "plt.plot(gb)\n",
    "    \n",
    "    \n",
    "fig, ax = plt.subplots(1,2, figsize=(10,5))\n",
    "ax[0].plot(x, y, color='k')\n",
    "ax[1].plot(x, post_y, color='k')\n",
    "\n",
    "flrtime = 2454833 - time2[flr]\n",
    "\n",
    "ax[0].set_title('Ringing')\n",
    "ax[0].set_xlabel('BJD - {0:.3f} (days)'.format(flrtime))\n",
    "ax[0].set_ylabel('Standardized Flux')\n",
    "ax[0].ticklabel_format(useOffset=False, style='plain')\n",
    "\n",
    "\n",
    "ax[1].set_title('Gabor-Filtered Ringing')\n",
    "ax[1].set_xlabel('BJD - {0:.3f} (days)'.format(flrtime))\n",
    "ax[1].yaxis.tick_right()\n",
    "ax[1].ticklabel_format(useOffset=False, style='plain')\n",
    "    \n",
    "print('Ringing amp as fraction of signal: {}'.format(np.abs(post_y.min()/post_y.max())))\n",
    "    \n"
   ]
  },
  {
   "cell_type": "code",
   "execution_count": null,
   "metadata": {},
   "outputs": [],
   "source": []
  },
  {
   "cell_type": "code",
   "execution_count": null,
   "metadata": {},
   "outputs": [],
   "source": []
  },
  {
   "cell_type": "code",
   "execution_count": null,
   "metadata": {},
   "outputs": [],
   "source": []
  }
 ],
 "metadata": {
  "kernelspec": {
   "display_name": "Python 3",
   "language": "python",
   "name": "python3"
  },
  "language_info": {
   "codemirror_mode": {
    "name": "ipython",
    "version": 3
   },
   "file_extension": ".py",
   "mimetype": "text/x-python",
   "name": "python",
   "nbconvert_exporter": "python",
   "pygments_lexer": "ipython3",
   "version": "3.7.3"
  },
  "latex_envs": {
   "LaTeX_envs_menu_present": true,
   "autoclose": false,
   "autocomplete": true,
   "bibliofile": "biblio.bib",
   "cite_by": "apalike",
   "current_citInitial": 1,
   "eqLabelWithNumbers": true,
   "eqNumInitial": 1,
   "hotkeys": {
    "equation": "Ctrl-E",
    "itemize": "Ctrl-I"
   },
   "labels_anchors": false,
   "latex_user_defs": false,
   "report_style_numbering": false,
   "user_envs_cfg": false
  },
  "nbTranslate": {
   "displayLangs": [
    "*"
   ],
   "hotkey": "alt-t",
   "langInMainMenu": true,
   "sourceLang": "en",
   "targetLang": "fr",
   "useGoogleTranslate": true
  },
  "toc": {
   "base_numbering": 1,
   "nav_menu": {},
   "number_sections": true,
   "sideBar": true,
   "skip_h1_title": false,
   "title_cell": "Table of Contents",
   "title_sidebar": "Contents",
   "toc_cell": false,
   "toc_position": {},
   "toc_section_display": true,
   "toc_window_display": false
  }
 },
 "nbformat": 4,
 "nbformat_minor": 2
}
