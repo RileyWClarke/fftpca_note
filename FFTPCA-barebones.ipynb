{
 "cells": [
  {
   "cell_type": "markdown",
   "metadata": {
    "colab_type": "text",
    "id": "view-in-github"
   },
   "source": [
    "<a href=\"https://colab.research.google.com/github/RileyWClarke/fftpca_note/blob/master/FFTPCA.ipynb\" target=\"_parent\"><img src=\"https://colab.research.google.com/assets/colab-badge.svg\" alt=\"Open In Colab\"/></a>"
   ]
  },
  {
   "cell_type": "markdown",
   "metadata": {
    "id": "NZcI34q7eLak"
   },
   "source": [
    "# FFTPCA"
   ]
  },
  {
   "cell_type": "code",
   "execution_count": 53,
   "metadata": {
    "collapsed": true,
    "id": "gmUNP4zE19Ho"
   },
   "outputs": [],
   "source": [
    "%matplotlib inline\n",
    "import numpy as np\n",
    "import matplotlib.pyplot as plt\n",
    "\n",
    "\n",
    "#Potentially useful astropy stuff\n",
    "import astropy\n",
    "import astropy.io.ascii as ascii\n",
    "from astropy.table import Table\n",
    "from astropy.io import fits\n",
    "from astropy.stats import LombScargle\n",
    "from astropy.stats import sigma_clipped_stats\n",
    "from astropy.stats import sigma_clip\n",
    "from astropy.modeling import powerlaws\n",
    "from astropy import constants as const\n",
    "from astropy import units as u\n",
    "\n",
    "#For reading in and organizing data\n",
    "import pandas as pd\n",
    "import requests\n",
    "import json\n",
    "\n",
    "#Misc\n",
    "import scipy\n",
    "import sklearn\n",
    "from sklearn.preprocessing import scale"
   ]
  },
  {
   "cell_type": "code",
   "execution_count": 54,
   "metadata": {
    "collapsed": true,
    "id": "nuT0m-IN0qCb"
   },
   "outputs": [],
   "source": [
    "#Making Figures look nice\n",
    "plt.rcParams['font.family'] = 'sans-serif'\n",
    "plt.rcParams['font.size'] = 12"
   ]
  },
  {
   "cell_type": "code",
   "execution_count": 55,
   "metadata": {
    "colab": {
     "base_uri": "https://localhost:8080/"
    },
    "collapsed": true,
    "id": "k3ySgBSJRbVz",
    "outputId": "6f71f973-d656-4d2d-a784-51ae782626e3"
   },
   "outputs": [],
   "source": [
    "#from google.colab import drive\n",
    "#drive.mount(\"/content/gdrive\")"
   ]
  },
  {
   "cell_type": "markdown",
   "metadata": {
    "id": "23ZI0uXI9tjn"
   },
   "source": [
    "## Reading in Data"
   ]
  },
  {
   "cell_type": "markdown",
   "metadata": {
    "id": "QV59jcBb9x5Y"
   },
   "source": [
    "### Long Cadence Data"
   ]
  },
  {
   "cell_type": "code",
   "execution_count": 56,
   "metadata": {
    "collapsed": true,
    "id": "WXoeu-Pl8lW5"
   },
   "outputs": [],
   "source": [
    "bjds = np.load('Data/bjds.npy')\n",
    "fluxes = np.load('Data/fluxes.npy')\n",
    "fluxerrs = np.load('Data/fluxerrs.npy')"
   ]
  },
  {
   "cell_type": "markdown",
   "metadata": {
    "id": "h8LpnHmqMGro"
   },
   "source": [
    "# FFT Filtering"
   ]
  },
  {
   "cell_type": "code",
   "execution_count": 57,
   "metadata": {
    "collapsed": true,
    "id": "I_YiUBgRGCgv"
   },
   "outputs": [],
   "source": [
    "def invgaussian(a ,m, s, x):\n",
    "    g = -a * np.exp(-(m-x)**2 / s**2) + 1 \n",
    "    return g"
   ]
  },
  {
   "cell_type": "code",
   "execution_count": 58,
   "metadata": {
    "collapsed": true,
    "id": "gJMmsMHKL7Pb"
   },
   "outputs": [],
   "source": [
    "def bandpass_ifft(t, flux, low_cutoff, high_cutoff, sample=1, \n",
    "                  M=None, inv_box=False, gf_sig = 1, Filter='box', Plot=''):\n",
    "    \"\"\"Bandpass filtering on a real signal using inverse FFT\n",
    "    \n",
    "    Inputs\n",
    "    =======\n",
    "    \n",
    "    X: 1-D numpy array of floats, the real time domain signal (time series) to be filtered\n",
    "    Low_cutoff: float, frequency components below this frequency will not pass the filter (physical frequency in unit of Hz)\n",
    "    High_cutoff: float, frequency components above this frequency will not pass the filter (physical frequency in unit of Hz)\n",
    "    sample: float, the sampling frequency of the signal (physical frequency in unit of Hz)    \n",
    "    M: idk lmao\n",
    "    inv_box: If using box filter, setting inv=True filters out frequencies outside the box\n",
    "    Filter: Default filter is box, can choose 'Gaussian' also\n",
    "    \n",
    "    Notes\n",
    "    =====\n",
    "    1. The input signal must be real, not imaginary nor complex\n",
    "    2. The Filtered_signal will have only half of original amplitude. Use abs() to restore. \n",
    "    3. In Numpy/Scipy, the frequencies goes from 0 to F_sample/2 and then from negative F_sample to 0. \n",
    "    \n",
    "    \"\"\"        \n",
    "    #perform fft\n",
    "    spectrum = np.fft.rfft(flux) \n",
    "    freq = np.fft.rfftfreq(len(flux), sample)\n",
    "    freq_sort = np.sort(spectrum)\n",
    "    \n",
    "    #calculate the index of the cut off points\n",
    "    lc = np.abs(freq) < Low_cutoff\n",
    "    hc = np.abs(freq) > High_cutoff\n",
    "    between = ~(lc + hc)\n",
    "    \n",
    "    ps = np.abs(spectrum)**2\n",
    "    if ('PS' in Plot) or ('All' in Plot):\n",
    "      plt.plot(freq, ps)\n",
    "      plt.title(\"power spectrum\")\n",
    "      plt.xlabel('Frequency (1/day)')\n",
    "      plt.ylabel('Power Spectral Density')\n",
    "      #plt.xlim(0,100)\n",
    "      #plt.savefig('Figures/spec.png', bbox_inches='tight', pad_inches=0.5)\n",
    "      plt.show()\n",
    "\n",
    "    if ('DFT' in Plot) or ('All' in Plot):\n",
    "      plt.plot(freq, spectrum)\n",
    "      #plt.plot(freq[between], spectrum[between], alpha=0.5)\n",
    "      plt.title(\"real fourier transform \")\n",
    "      plt.xlabel('Frequency (1/day)')\n",
    "      plt.ylabel('Amplitude')\n",
    "      #plt.xlim(0,100)\n",
    "      #plt.savefig('Figures/fft.png', bbox_inches='tight', pad_inches=0.5)\n",
    "      plt.show()\n",
    "    \n",
    "    \n",
    "    \n",
    "    if Filter == 'box':\n",
    "    \n",
    "      #filtered_spectrum = spectrum.copy()\n",
    "    \n",
    "      if inv_box == True:\n",
    "        x_1 = np.arange(0, Low_cutoff, 0.1)\n",
    "        x_2 = np.arange(High_cutoff, np.max(freq), 0.1)\n",
    "        plt.plot(freq, spectrum)\n",
    "        plt.fill_between(x_1, [plt.ylim()[0]] * len(x_1), \n",
    "                     [plt.ylim()[1]] * len(x_1), color='r', alpha=0.3)\n",
    "        plt.fill_between(x_2, [plt.ylim()[0]] * len(x_2), \n",
    "                     [plt.ylim()[1]] * len(x_2), color='r', alpha=0.3)\n",
    "        plt.title(\"range to suppress\")\n",
    "        plt.figure()\n",
    "        filtered_spectrum[lc] = 0.\n",
    "        filtered_spectrum[hc] = 0.\n",
    "      else:\n",
    "        x_ = np.arange(Low_cutoff, High_cutoff, 0.1)\n",
    "        plt.plot(freq, spectrum)\n",
    "        plt.fill_between(x_, [plt.ylim()[0]] * len(x_), \n",
    "                     [plt.ylim()[1]] * len(x_), color='r', alpha=0.3)\n",
    "        plt.title(\"range to suppress\")\n",
    "        plt.figure()\n",
    "        filtered_spectrum[between] = 0.\n",
    "    \n",
    "    if Filter == 'Gaussian':\n",
    "      ig = invgaussian(1, np.median([low_cutoff,high_cutoff]), gf_sig, freq)\n",
    "      filtered_spectrum = spectrum * ig\n",
    "      if ('filter' in Plot) or ('All' in Plot):\n",
    "        plt.plot(freq, ig)\n",
    "        plt.title('Gaussian Filter')\n",
    "        #plt.savefig('Figures/gfilter.png')\n",
    "        #plt.xlim(0,100)\n",
    "        plt.figure()\n",
    "\n",
    "    if ('spec_filtered' in Plot) or ('All' in Plot):\n",
    "      plt.plot(freq, filtered_spectrum, label=\"filtered spectrum\")\n",
    "      plt.plot(freq, spectrum, c='k', ls=\"--\", label=\"spectrum\", alpha=0.5)\n",
    "      plt.title(\"Unfiltered vs. Filtered Spectrum\")\n",
    "      plt.xlabel('Frequency (1/day)')\n",
    "      plt.ylabel('Amplitude')\n",
    "      ldg = plt.legend(fontsize=12)\n",
    "      #plt.xlim(0,100)\n",
    "      #plt.savefig('Figures/filter_compare.png', bbox_inches='tight', pad_inches=0.5)\n",
    "      plt.figure()\n",
    "\n",
    "    filtered_signal = np.fft.irfft(filtered_spectrum)  # Construct filtered signal\n",
    "\n",
    "    if ('signal_filtered' in Plot) or ('All' in Plot):\n",
    "      fig = plt.figure(figsize=(15,10)) \n",
    "      plt.plot(t, filtered_signal, label=\"filtered signal\")\n",
    "      plt.plot(t, flux, c='k', ls=\"--\", label=\"original signal\", alpha=0.5)\n",
    "      plt.xlabel('Time')\n",
    "      plt.ylabel('Amplitude')\n",
    "      plt.title(\"Unfiltered vs. Filtered Signal\")\n",
    "      #plt.savefig('Figures/filtered_signal.png', bbox_inches='tight', pad_inches=0.5)\n",
    "      plt.legend()\n",
    "      #Filtered_signal = np.zeros_like(Filtered_signal)\n",
    "    return spectrum, freq, filtered_spectrum, filtered_signal, Low_cutoff, High_cutoff"
   ]
  },
  {
   "cell_type": "code",
   "execution_count": 59,
   "metadata": {
    "collapsed": true,
    "id": "u6RyHuLaME_Q"
   },
   "outputs": [],
   "source": [
    "dfts = []\n",
    "pspectra = []\n",
    "for i, flux in enumerate(fluxes):\n",
    "  Low_cutoff, High_cutoff, F_sample = 4, 6, np.diff(bjds[i])[0]\n",
    "  Spectrum, frequency, Filtered_spectrum, Filtered_signal, Low_freq, High_freq = bandpass_ifft(bjds[i], flux, Low_cutoff, High_cutoff, \n",
    "                          F_sample, gf_sig = 1, Filter='Gaussian')\n",
    "\n",
    "  dfts.append(Spectrum)\n",
    "  pspectra.append(np.abs(Spectrum)**2)"
   ]
  },
  {
   "cell_type": "markdown",
   "metadata": {
    "id": "DNSJoUr_HiAR"
   },
   "source": [
    "# PCA with Spectra"
   ]
  },
  {
   "cell_type": "code",
   "execution_count": 60,
   "metadata": {
    "collapsed": true,
    "id": "Cji3ZIs_Hd7i"
   },
   "outputs": [],
   "source": [
    "from sklearn.decomposition import PCA"
   ]
  },
  {
   "cell_type": "code",
   "execution_count": 61,
   "metadata": {
    "collapsed": true,
    "id": "VGzxJlHJHska"
   },
   "outputs": [],
   "source": [
    "pspec_dict = {}\n",
    "\n",
    "for j, spec in enumerate(pspectra):\n",
    "  pspec_dict[\"spec{0}\".format(j)] = spec\n",
    "\n",
    "pspec_df = pd.DataFrame(data=pspec_dict)"
   ]
  },
  {
   "cell_type": "code",
   "execution_count": 62,
   "metadata": {
    "colab": {
     "base_uri": "https://localhost:8080/",
     "height": 253
    },
    "id": "J9UyosJpH9NE",
    "outputId": "f0b7a382-0824-4098-8c27-9000beb04755"
   },
   "outputs": [
    {
     "data": {
      "text/html": [
       "<div>\n",
       "<style scoped>\n",
       "    .dataframe tbody tr th:only-of-type {\n",
       "        vertical-align: middle;\n",
       "    }\n",
       "\n",
       "    .dataframe tbody tr th {\n",
       "        vertical-align: top;\n",
       "    }\n",
       "\n",
       "    .dataframe thead th {\n",
       "        text-align: right;\n",
       "    }\n",
       "</style>\n",
       "<table border=\"1\" class=\"dataframe\">\n",
       "  <thead>\n",
       "    <tr style=\"text-align: right;\">\n",
       "      <th></th>\n",
       "      <th>spec0</th>\n",
       "      <th>spec1</th>\n",
       "      <th>spec2</th>\n",
       "      <th>spec3</th>\n",
       "      <th>spec4</th>\n",
       "      <th>spec5</th>\n",
       "      <th>spec6</th>\n",
       "      <th>spec7</th>\n",
       "      <th>spec8</th>\n",
       "      <th>spec9</th>\n",
       "      <th>...</th>\n",
       "      <th>spec990</th>\n",
       "      <th>spec991</th>\n",
       "      <th>spec992</th>\n",
       "      <th>spec993</th>\n",
       "      <th>spec994</th>\n",
       "      <th>spec995</th>\n",
       "      <th>spec996</th>\n",
       "      <th>spec997</th>\n",
       "      <th>spec998</th>\n",
       "      <th>spec999</th>\n",
       "    </tr>\n",
       "  </thead>\n",
       "  <tbody>\n",
       "    <tr>\n",
       "      <th>0</th>\n",
       "      <td>2444.330836</td>\n",
       "      <td>3491.401379</td>\n",
       "      <td>17691.849961</td>\n",
       "      <td>24.533747</td>\n",
       "      <td>6.163901e+03</td>\n",
       "      <td>631.853491</td>\n",
       "      <td>276.295785</td>\n",
       "      <td>15020.322357</td>\n",
       "      <td>195.025521</td>\n",
       "      <td>22788.457538</td>\n",
       "      <td>...</td>\n",
       "      <td>33.260864</td>\n",
       "      <td>8.329918e+01</td>\n",
       "      <td>429.686300</td>\n",
       "      <td>3.495277e+02</td>\n",
       "      <td>10.796121</td>\n",
       "      <td>604.412834</td>\n",
       "      <td>74.000805</td>\n",
       "      <td>15.231185</td>\n",
       "      <td>1578.632726</td>\n",
       "      <td>0.325671</td>\n",
       "    </tr>\n",
       "    <tr>\n",
       "      <th>1</th>\n",
       "      <td>188558.097947</td>\n",
       "      <td>24932.464107</td>\n",
       "      <td>27502.736287</td>\n",
       "      <td>11596.062242</td>\n",
       "      <td>1.329584e+06</td>\n",
       "      <td>21881.098032</td>\n",
       "      <td>7824.408002</td>\n",
       "      <td>1708.935209</td>\n",
       "      <td>33900.530576</td>\n",
       "      <td>106001.638933</td>\n",
       "      <td>...</td>\n",
       "      <td>39012.940662</td>\n",
       "      <td>2.852149e+04</td>\n",
       "      <td>221522.421770</td>\n",
       "      <td>2.701112e+05</td>\n",
       "      <td>16677.137662</td>\n",
       "      <td>78130.343520</td>\n",
       "      <td>54050.845570</td>\n",
       "      <td>7015.700238</td>\n",
       "      <td>701.526990</td>\n",
       "      <td>33601.833088</td>\n",
       "    </tr>\n",
       "    <tr>\n",
       "      <th>2</th>\n",
       "      <td>137018.884662</td>\n",
       "      <td>40621.698347</td>\n",
       "      <td>26031.074624</td>\n",
       "      <td>99011.951142</td>\n",
       "      <td>1.027931e+05</td>\n",
       "      <td>60128.856707</td>\n",
       "      <td>74299.255923</td>\n",
       "      <td>12094.348022</td>\n",
       "      <td>523997.575650</td>\n",
       "      <td>84198.566845</td>\n",
       "      <td>...</td>\n",
       "      <td>1388.401516</td>\n",
       "      <td>7.674183e+04</td>\n",
       "      <td>411180.284071</td>\n",
       "      <td>1.482621e+05</td>\n",
       "      <td>86068.824882</td>\n",
       "      <td>164012.481497</td>\n",
       "      <td>86414.240316</td>\n",
       "      <td>6035.216574</td>\n",
       "      <td>83485.735451</td>\n",
       "      <td>23158.742652</td>\n",
       "    </tr>\n",
       "    <tr>\n",
       "      <th>3</th>\n",
       "      <td>8088.677230</td>\n",
       "      <td>1279.610214</td>\n",
       "      <td>25525.877039</td>\n",
       "      <td>7997.888711</td>\n",
       "      <td>1.717962e+05</td>\n",
       "      <td>15107.184941</td>\n",
       "      <td>41440.697136</td>\n",
       "      <td>7385.217256</td>\n",
       "      <td>68834.422406</td>\n",
       "      <td>119432.561355</td>\n",
       "      <td>...</td>\n",
       "      <td>1653.227609</td>\n",
       "      <td>1.331502e+05</td>\n",
       "      <td>370.357912</td>\n",
       "      <td>2.498437e+05</td>\n",
       "      <td>193504.408819</td>\n",
       "      <td>8440.866909</td>\n",
       "      <td>14802.618608</td>\n",
       "      <td>16771.383378</td>\n",
       "      <td>4520.744261</td>\n",
       "      <td>5862.505022</td>\n",
       "    </tr>\n",
       "    <tr>\n",
       "      <th>4</th>\n",
       "      <td>38741.302025</td>\n",
       "      <td>32673.694499</td>\n",
       "      <td>103469.748680</td>\n",
       "      <td>7106.695823</td>\n",
       "      <td>1.824596e+05</td>\n",
       "      <td>8008.003119</td>\n",
       "      <td>236357.760858</td>\n",
       "      <td>92934.117258</td>\n",
       "      <td>17320.909253</td>\n",
       "      <td>47588.485578</td>\n",
       "      <td>...</td>\n",
       "      <td>13031.507391</td>\n",
       "      <td>1.834104e+06</td>\n",
       "      <td>7710.168343</td>\n",
       "      <td>2.331563e+06</td>\n",
       "      <td>44564.275246</td>\n",
       "      <td>32945.930265</td>\n",
       "      <td>111682.212681</td>\n",
       "      <td>26327.696869</td>\n",
       "      <td>36660.220971</td>\n",
       "      <td>1539.411083</td>\n",
       "    </tr>\n",
       "  </tbody>\n",
       "</table>\n",
       "<p>5 rows × 1000 columns</p>\n",
       "</div>"
      ],
      "text/plain": [
       "           spec0         spec1          spec2         spec3         spec4  \\\n",
       "0    2444.330836   3491.401379   17691.849961     24.533747  6.163901e+03   \n",
       "1  188558.097947  24932.464107   27502.736287  11596.062242  1.329584e+06   \n",
       "2  137018.884662  40621.698347   26031.074624  99011.951142  1.027931e+05   \n",
       "3    8088.677230   1279.610214   25525.877039   7997.888711  1.717962e+05   \n",
       "4   38741.302025  32673.694499  103469.748680   7106.695823  1.824596e+05   \n",
       "\n",
       "          spec5          spec6         spec7          spec8          spec9  \\\n",
       "0    631.853491     276.295785  15020.322357     195.025521   22788.457538   \n",
       "1  21881.098032    7824.408002   1708.935209   33900.530576  106001.638933   \n",
       "2  60128.856707   74299.255923  12094.348022  523997.575650   84198.566845   \n",
       "3  15107.184941   41440.697136   7385.217256   68834.422406  119432.561355   \n",
       "4   8008.003119  236357.760858  92934.117258   17320.909253   47588.485578   \n",
       "\n",
       "   ...       spec990       spec991        spec992       spec993  \\\n",
       "0  ...     33.260864  8.329918e+01     429.686300  3.495277e+02   \n",
       "1  ...  39012.940662  2.852149e+04  221522.421770  2.701112e+05   \n",
       "2  ...   1388.401516  7.674183e+04  411180.284071  1.482621e+05   \n",
       "3  ...   1653.227609  1.331502e+05     370.357912  2.498437e+05   \n",
       "4  ...  13031.507391  1.834104e+06    7710.168343  2.331563e+06   \n",
       "\n",
       "         spec994        spec995        spec996       spec997       spec998  \\\n",
       "0      10.796121     604.412834      74.000805     15.231185   1578.632726   \n",
       "1   16677.137662   78130.343520   54050.845570   7015.700238    701.526990   \n",
       "2   86068.824882  164012.481497   86414.240316   6035.216574  83485.735451   \n",
       "3  193504.408819    8440.866909   14802.618608  16771.383378   4520.744261   \n",
       "4   44564.275246   32945.930265  111682.212681  26327.696869  36660.220971   \n",
       "\n",
       "        spec999  \n",
       "0      0.325671  \n",
       "1  33601.833088  \n",
       "2  23158.742652  \n",
       "3   5862.505022  \n",
       "4   1539.411083  \n",
       "\n",
       "[5 rows x 1000 columns]"
      ]
     },
     "execution_count": 62,
     "metadata": {},
     "output_type": "execute_result"
    }
   ],
   "source": [
    "pspec_df.head()"
   ]
  },
  {
   "cell_type": "code",
   "execution_count": 63,
   "metadata": {
    "collapsed": true,
    "id": "Kp6V1Hc6MEWc"
   },
   "outputs": [],
   "source": [
    "x = pspec_df.values\n",
    "x = scale(x, axis=0)"
   ]
  },
  {
   "cell_type": "code",
   "execution_count": 64,
   "metadata": {
    "colab": {
     "base_uri": "https://localhost:8080/",
     "height": 355
    },
    "id": "plfHMBG8KHIa",
    "outputId": "b61764f0-59ff-4ee3-e5e6-b9906510eac4"
   },
   "outputs": [
    {
     "name": "stdout",
     "output_type": "stream",
     "text": [
      "(1735, 1000)\n"
     ]
    },
    {
     "data": {
      "text/html": [
       "<div>\n",
       "<style scoped>\n",
       "    .dataframe tbody tr th:only-of-type {\n",
       "        vertical-align: middle;\n",
       "    }\n",
       "\n",
       "    .dataframe tbody tr th {\n",
       "        vertical-align: top;\n",
       "    }\n",
       "\n",
       "    .dataframe thead th {\n",
       "        text-align: right;\n",
       "    }\n",
       "</style>\n",
       "<table border=\"1\" class=\"dataframe\">\n",
       "  <thead>\n",
       "    <tr style=\"text-align: right;\">\n",
       "      <th></th>\n",
       "      <th>0</th>\n",
       "      <th>1</th>\n",
       "      <th>2</th>\n",
       "      <th>3</th>\n",
       "      <th>4</th>\n",
       "      <th>5</th>\n",
       "      <th>6</th>\n",
       "      <th>7</th>\n",
       "      <th>8</th>\n",
       "      <th>9</th>\n",
       "      <th>...</th>\n",
       "      <th>990</th>\n",
       "      <th>991</th>\n",
       "      <th>992</th>\n",
       "      <th>993</th>\n",
       "      <th>994</th>\n",
       "      <th>995</th>\n",
       "      <th>996</th>\n",
       "      <th>997</th>\n",
       "      <th>998</th>\n",
       "      <th>999</th>\n",
       "    </tr>\n",
       "  </thead>\n",
       "  <tbody>\n",
       "    <tr>\n",
       "      <th>0</th>\n",
       "      <td>-0.976851</td>\n",
       "      <td>5.335109</td>\n",
       "      <td>-0.635924</td>\n",
       "      <td>0.426727</td>\n",
       "      <td>-0.149198</td>\n",
       "      <td>0.594171</td>\n",
       "      <td>1.446605</td>\n",
       "      <td>0.675921</td>\n",
       "      <td>0.419251</td>\n",
       "      <td>-0.170973</td>\n",
       "      <td>...</td>\n",
       "      <td>9.705129e-05</td>\n",
       "      <td>-1.991950e-05</td>\n",
       "      <td>1.209915e-05</td>\n",
       "      <td>1.607438e-05</td>\n",
       "      <td>-1.457954e-05</td>\n",
       "      <td>-5.352218e-06</td>\n",
       "      <td>-2.024611e-05</td>\n",
       "      <td>-1.570068e-05</td>\n",
       "      <td>-1.613461e-06</td>\n",
       "      <td>-2.141829e-07</td>\n",
       "    </tr>\n",
       "    <tr>\n",
       "      <th>1</th>\n",
       "      <td>204.148185</td>\n",
       "      <td>295.006662</td>\n",
       "      <td>-6.975532</td>\n",
       "      <td>40.328249</td>\n",
       "      <td>32.018923</td>\n",
       "      <td>-11.744238</td>\n",
       "      <td>-18.781720</td>\n",
       "      <td>-3.156247</td>\n",
       "      <td>-2.028993</td>\n",
       "      <td>1.815808</td>\n",
       "      <td>...</td>\n",
       "      <td>-7.305529e-08</td>\n",
       "      <td>1.089954e-08</td>\n",
       "      <td>-7.434678e-09</td>\n",
       "      <td>-1.106568e-08</td>\n",
       "      <td>2.230695e-08</td>\n",
       "      <td>5.975956e-09</td>\n",
       "      <td>2.087342e-08</td>\n",
       "      <td>1.388444e-08</td>\n",
       "      <td>2.734884e-09</td>\n",
       "      <td>-6.735569e-10</td>\n",
       "    </tr>\n",
       "    <tr>\n",
       "      <th>2</th>\n",
       "      <td>372.084336</td>\n",
       "      <td>-27.892496</td>\n",
       "      <td>241.148784</td>\n",
       "      <td>-66.463167</td>\n",
       "      <td>-26.688698</td>\n",
       "      <td>-5.604747</td>\n",
       "      <td>-7.383737</td>\n",
       "      <td>1.605789</td>\n",
       "      <td>-2.771667</td>\n",
       "      <td>-1.688595</td>\n",
       "      <td>...</td>\n",
       "      <td>3.325794e-08</td>\n",
       "      <td>-3.521616e-08</td>\n",
       "      <td>6.196570e-08</td>\n",
       "      <td>-4.798948e-08</td>\n",
       "      <td>1.852050e-08</td>\n",
       "      <td>-2.399049e-08</td>\n",
       "      <td>-1.306440e-08</td>\n",
       "      <td>-1.052070e-08</td>\n",
       "      <td>-1.940447e-08</td>\n",
       "      <td>2.089709e-08</td>\n",
       "    </tr>\n",
       "    <tr>\n",
       "      <th>3</th>\n",
       "      <td>267.782555</td>\n",
       "      <td>-62.642841</td>\n",
       "      <td>-25.544949</td>\n",
       "      <td>204.578245</td>\n",
       "      <td>-105.998911</td>\n",
       "      <td>-2.221424</td>\n",
       "      <td>-18.307529</td>\n",
       "      <td>2.020841</td>\n",
       "      <td>-3.571498</td>\n",
       "      <td>1.620010</td>\n",
       "      <td>...</td>\n",
       "      <td>-8.086415e-08</td>\n",
       "      <td>-9.126746e-08</td>\n",
       "      <td>3.000561e-08</td>\n",
       "      <td>6.304849e-08</td>\n",
       "      <td>-1.127478e-08</td>\n",
       "      <td>-1.099796e-10</td>\n",
       "      <td>-2.337176e-08</td>\n",
       "      <td>-2.024113e-08</td>\n",
       "      <td>2.418073e-08</td>\n",
       "      <td>-2.636521e-08</td>\n",
       "    </tr>\n",
       "    <tr>\n",
       "      <th>4</th>\n",
       "      <td>234.667100</td>\n",
       "      <td>-70.390801</td>\n",
       "      <td>-15.216099</td>\n",
       "      <td>53.341804</td>\n",
       "      <td>165.906755</td>\n",
       "      <td>108.825482</td>\n",
       "      <td>-10.195769</td>\n",
       "      <td>-12.742281</td>\n",
       "      <td>-1.464725</td>\n",
       "      <td>5.277979</td>\n",
       "      <td>...</td>\n",
       "      <td>4.346168e-08</td>\n",
       "      <td>-2.845333e-08</td>\n",
       "      <td>-1.768161e-08</td>\n",
       "      <td>3.585069e-08</td>\n",
       "      <td>-2.087025e-08</td>\n",
       "      <td>-1.040076e-08</td>\n",
       "      <td>1.059473e-08</td>\n",
       "      <td>-1.722237e-08</td>\n",
       "      <td>7.806284e-09</td>\n",
       "      <td>-1.508386e-09</td>\n",
       "    </tr>\n",
       "  </tbody>\n",
       "</table>\n",
       "<p>5 rows × 1000 columns</p>\n",
       "</div>"
      ],
      "text/plain": [
       "          0           1           2           3           4           5    \\\n",
       "0   -0.976851    5.335109   -0.635924    0.426727   -0.149198    0.594171   \n",
       "1  204.148185  295.006662   -6.975532   40.328249   32.018923  -11.744238   \n",
       "2  372.084336  -27.892496  241.148784  -66.463167  -26.688698   -5.604747   \n",
       "3  267.782555  -62.642841  -25.544949  204.578245 -105.998911   -2.221424   \n",
       "4  234.667100  -70.390801  -15.216099   53.341804  165.906755  108.825482   \n",
       "\n",
       "         6          7         8         9    ...           990           991  \\\n",
       "0   1.446605   0.675921  0.419251 -0.170973  ...  9.705129e-05 -1.991950e-05   \n",
       "1 -18.781720  -3.156247 -2.028993  1.815808  ... -7.305529e-08  1.089954e-08   \n",
       "2  -7.383737   1.605789 -2.771667 -1.688595  ...  3.325794e-08 -3.521616e-08   \n",
       "3 -18.307529   2.020841 -3.571498  1.620010  ... -8.086415e-08 -9.126746e-08   \n",
       "4 -10.195769 -12.742281 -1.464725  5.277979  ...  4.346168e-08 -2.845333e-08   \n",
       "\n",
       "            992           993           994           995           996  \\\n",
       "0  1.209915e-05  1.607438e-05 -1.457954e-05 -5.352218e-06 -2.024611e-05   \n",
       "1 -7.434678e-09 -1.106568e-08  2.230695e-08  5.975956e-09  2.087342e-08   \n",
       "2  6.196570e-08 -4.798948e-08  1.852050e-08 -2.399049e-08 -1.306440e-08   \n",
       "3  3.000561e-08  6.304849e-08 -1.127478e-08 -1.099796e-10 -2.337176e-08   \n",
       "4 -1.768161e-08  3.585069e-08 -2.087025e-08 -1.040076e-08  1.059473e-08   \n",
       "\n",
       "            997           998           999  \n",
       "0 -1.570068e-05 -1.613461e-06 -2.141829e-07  \n",
       "1  1.388444e-08  2.734884e-09 -6.735569e-10  \n",
       "2 -1.052070e-08 -1.940447e-08  2.089709e-08  \n",
       "3 -2.024113e-08  2.418073e-08 -2.636521e-08  \n",
       "4 -1.722237e-08  7.806284e-09 -1.508386e-09  \n",
       "\n",
       "[5 rows x 1000 columns]"
      ]
     },
     "execution_count": 64,
     "metadata": {},
     "output_type": "execute_result"
    }
   ],
   "source": [
    "pca = PCA()\n",
    "\n",
    "pca.fit(x)\n",
    "\n",
    "X = pca.transform(x)\n",
    "\n",
    "pca_df = pd.DataFrame(data = X)\n",
    "print(pca_df.shape)\n",
    "pca_df.head()"
   ]
  },
  {
   "cell_type": "markdown",
   "metadata": {
    "id": "vQk8Ns01cEJU"
   },
   "source": [
    "## Bandpass Filtering First 2 Components"
   ]
  },
  {
   "cell_type": "code",
   "execution_count": 65,
   "metadata": {
    "collapsed": true,
    "id": "20yP6G8pvdwe"
   },
   "outputs": [],
   "source": [
    "def gaussian(a, m, s, x):\n",
    "    g = a * np.exp(-(m-x)**2 / s**2) \n",
    "    return g"
   ]
  },
  {
   "cell_type": "code",
   "execution_count": 66,
   "metadata": {
    "colab": {
     "base_uri": "https://localhost:8080/",
     "height": 268
    },
    "id": "TAkZUL6pg336",
    "outputId": "2cafc105-de14-4079-c201-a80c309aa32b"
   },
   "outputs": [
    {
     "data": {
      "image/png": "[encoded data removed]",
      "text/plain": [
       "<matplotlib.figure.Figure at 0x13d29e898>"
      ]
     },
     "metadata": {},
     "output_type": "display_data"
    }
   ],
   "source": [
    "def hrm_gfilter(x, s, fund, nhrm=0, amps=np.ones(len(x))):\n",
    "\n",
    "  fhrms = np.array([fund])\n",
    "\n",
    "  for i in range(2, nhrm+2):\n",
    "    fhrms = np.append(fhrms, i*fund)\n",
    "\n",
    "  filt = np.ones(len(x))\n",
    "\n",
    "  for hrm, amp in zip(fhrms, amps):\n",
    "    filt *= invgaussian(amp,hrm,s,x) \n",
    "   # filt += gaussian(amp,hrm,s,x)\n",
    "\n",
    "  return filt\n",
    "\n",
    "filt = hrm_gfilter(frequency, 0.2, 4.1, 2)\n",
    "\n",
    "plt.plot(frequency, filt)\n",
    "plt.ylim(-0.1,1.1);"
   ]
  },
  {
   "cell_type": "code",
   "execution_count": 67,
   "metadata": {
    "colab": {
     "base_uri": "https://localhost:8080/",
     "height": 302
    },
    "id": "u60CdiE466wp",
    "outputId": "b091e3cb-2cab-43df-f489-70d440e23e8c"
   },
   "outputs": [
    {
     "data": {
      "image/png": "[encoded data removed]",
      "text/plain": [
       "<matplotlib.figure.Figure at 0x13c5f04e0>"
      ]
     },
     "metadata": {},
     "output_type": "display_data"
    }
   ],
   "source": [
    "# Multiple box plots on one Axes\n",
    "fig, ax = plt.subplots()\n",
    "ax.boxplot([pca.components_[0], pca.components_[1], pca.components_[2], pca.components_[3],pca.components_[4]])\n",
    "plt.hlines(0, 0, 7, linestyle='--', alpha=0.5)\n",
    "plt.xlabel('Component #')\n",
    "plt.title('Distribution of Principal Component Coefficients')\n",
    "plt.xlim(0.5,5.5)\n",
    "plt.savefig('Figures/box.png', dpi=100, bbox_inches='tight')\n",
    "plt.show()"
   ]
  },
  {
   "cell_type": "code",
   "execution_count": 68,
   "metadata": {
    "collapsed": true
   },
   "outputs": [],
   "source": [
    "d = {'pc1':pca.components_[0],'pc2':pca.components_[1],'pc3':pca.components_[2],'pc4':pca.components_[3],'pc5':pca.components_[4]}\n",
    "coeff_df = pd.DataFrame(data=d)\n",
    "coeff_df.to_csv('Data/coeffs.csv')"
   ]
  },
  {
   "cell_type": "markdown",
   "metadata": {
    "id": "NIkvmuoS7wOe"
   },
   "source": [
    "# PCA with DFTs"
   ]
  },
  {
   "cell_type": "code",
   "execution_count": 69,
   "metadata": {
    "collapsed": true,
    "id": "g4N1xUvnYdwE"
   },
   "outputs": [],
   "source": [
    "dft_dict = {}\n",
    "\n",
    "\n",
    "for j, dft in enumerate(dfts):\n",
    "  dft_dict[\"dft{0}\".format(j)] = dft\n",
    "\n",
    "dft_df = pd.DataFrame(data=dft_dict)"
   ]
  },
  {
   "cell_type": "code",
   "execution_count": 70,
   "metadata": {
    "collapsed": true,
    "id": "4actsfltVVQ7"
   },
   "outputs": [],
   "source": [
    "y = dft_df.values\n",
    "y.real = scale(y.real, axis=0)\n",
    "y.imag = scale(y.imag, axis=0)"
   ]
  },
  {
   "cell_type": "code",
   "execution_count": 71,
   "metadata": {
    "colab": {
     "base_uri": "https://localhost:8080/"
    },
    "id": "2zEc-4i04E5U",
    "outputId": "36c4d50d-bb0a-45e7-cc6a-6e931f827125"
   },
   "outputs": [
    {
     "name": "stdout",
     "output_type": "stream",
     "text": [
      "2.047673590086744e-18 8.190694360346977e-18\n"
     ]
    }
   ],
   "source": [
    "print(y[:,0].real.mean(), y[:,0].imag.mean())"
   ]
  },
  {
   "cell_type": "code",
   "execution_count": 72,
   "metadata": {
    "colab": {
     "base_uri": "https://localhost:8080/"
    },
    "id": "GAVR8Ugm4Mhh",
    "outputId": "ce21b466-0eec-4a24-97fa-576ce539dd82"
   },
   "outputs": [
    {
     "name": "stdout",
     "output_type": "stream",
     "text": [
      "1.0 1.0\n"
     ]
    }
   ],
   "source": [
    "print(y[:,0].real.std(), y[:,0].imag.std())"
   ]
  },
  {
   "cell_type": "code",
   "execution_count": 73,
   "metadata": {
    "colab": {
     "base_uri": "https://localhost:8080/"
    },
    "id": "U9d1YO7tWKHL",
    "outputId": "43bae835-0691-4599-f150-e6bff1bd0228"
   },
   "outputs": [
    {
     "name": "stdout",
     "output_type": "stream",
     "text": [
      "(1735, 1000)\n",
      "(1735, 1000)\n"
     ]
    }
   ],
   "source": [
    "pca2 = PCA()\n",
    "\n",
    "pca2.fit(y.real)\n",
    "\n",
    "Y = pca2.transform(y.real)\n",
    "\n",
    "pca2_df = pd.DataFrame(data = Y)\n",
    "print(pca2_df.shape)\n",
    "\n",
    "\n",
    "pca2i = PCA()\n",
    "\n",
    "pca2i.fit(y.imag)\n",
    "\n",
    "Yi = pca2i.transform(y.imag)\n",
    "\n",
    "pca2i_df = pd.DataFrame(data = Yi)\n",
    "print(pca2i_df.shape)"
   ]
  },
  {
   "cell_type": "markdown",
   "metadata": {
    "id": "N4UD2WdOfL7j"
   },
   "source": [
    "## Bandpass Filtering ALL Components"
   ]
  },
  {
   "cell_type": "code",
   "execution_count": 74,
   "metadata": {
    "collapsed": true,
    "id": "GVwMDjqTZJ5_"
   },
   "outputs": [],
   "source": [
    "def pc_thr(dataframe, frequency, fund, threshold):\n",
    "  pcs = dataframe.values\n",
    "  pc_list = []\n",
    "  f_ind = np.argmin(np.abs(frequency - fund))\n",
    "  fstep = np.diff(frequency).mean()\n",
    "  std = 0.1\n",
    "  pts_per_std = int(std/fstep)\n",
    "\n",
    "  for i, pc in enumerate(pcs):\n",
    "   \n",
    "    local_avg = np.mean(np.concatenate((pc[(f_ind - pts_per_std*2):(f_ind - pts_per_std*1)], \n",
    "                       pc[(f_ind + pts_per_std*1):(f_ind + pts_per_std*2)])))\n",
    "    local_std = np.std(np.concatenate((pc[(f_ind - pts_per_std*2):(f_ind - pts_per_std*1)], \n",
    "                       pc[(f_ind + pts_per_std*1):(f_ind + pts_per_std*2)])))\n",
    "\n",
    "    if np.abs(pc[f_ind]) > np.abs( local_avg * threshold * local_std ):\n",
    " \n",
    "      pc_list.append(i)\n",
    "\n",
    "    else:\n",
    "      pass\n",
    "\n",
    "  return pc_list"
   ]
  },
  {
   "cell_type": "code",
   "execution_count": 75,
   "metadata": {
    "colab": {
     "base_uri": "https://localhost:8080/"
    },
    "id": "1ujT1GrgcjMu",
    "outputId": "d3153a90-2f14-4c63-9964-4cf650c6103a"
   },
   "outputs": [
    {
     "data": {
      "text/plain": [
       "820"
      ]
     },
     "execution_count": 75,
     "metadata": {},
     "output_type": "execute_result"
    }
   ],
   "source": [
    "ss = pc_thr(pca2_df.T, frequency, fund=4.09, threshold=2)\n",
    "len(ss)"
   ]
  },
  {
   "cell_type": "code",
   "execution_count": 76,
   "metadata": {
    "collapsed": true,
    "id": "SPdz38QNWHRy"
   },
   "outputs": [],
   "source": [
    "### BANDPASS FILTERING PCs\n",
    "\n",
    "def pc_filt(dataframe, frequency, fund, std, nhrms, subset=None):\n",
    "\n",
    "  '''\n",
    "  Takes a set of Discrete Fourier Transform PCs with a common frequency domain \n",
    "  and bandpass filters them on a given \n",
    "  fundamental frequency and associated harmonics\n",
    "  with a Gaussian filter of standard deviation \"std\"\n",
    "  '''\n",
    "\n",
    "  #Create pcs and new_pcs\n",
    "  new_pcs = []\n",
    "  pcs = dataframe.values\n",
    "\n",
    "  #Select subset of pcs if applicable:\n",
    "  if subset != None:\n",
    "    pcs = np.take(pcs, subset, axis=0)\n",
    "  else:\n",
    "    pass\n",
    "\n",
    "  #Bandpass filter pcs:\n",
    "  for i, pc in enumerate(pcs):\n",
    "\n",
    "    fstep = np.diff(frequency).mean()\n",
    "    pts_per_std = int(std/fstep)\n",
    "    dftpc = np.copy(pc)  \n",
    "    hrm_inds = []\n",
    "\n",
    "    for i in range(1,nhrms+2):\n",
    "      hrm_inds.append(np.where(np.abs(frequency - fund*i) == np.abs(frequency - fund*i).min())[0][0])\n",
    "\n",
    "\n",
    "    for k, ind in enumerate(hrm_inds):\n",
    "      local_avg = np.mean(np.concatenate((dftpc[(ind - pts_per_std*2):(ind - pts_per_std*1)], \n",
    "                       dftpc[(ind + pts_per_std*1):(ind + pts_per_std*2)])))\n",
    "\n",
    "      dftpc[5:] -= local_avg\n",
    "      dftpc[5:] *= hrm_gfilter(frequency[5:], std, fund*(k+1))\n",
    "      dftpc[5:] += local_avg\n",
    "\n",
    "    new_pcs.append(dftpc)\n",
    "\n",
    "  #Replace modified pcs in the ensemble\n",
    "  if subset != None:\n",
    "    prod = dataframe.values.copy()\n",
    "    for n, m in zip(range(len(subset)), subset):\n",
    "      prod[m] = new_pcs[n]\n",
    "    return prod\n",
    "\n",
    "  return np.array(new_pcs)"
   ]
  },
  {
   "cell_type": "code",
   "execution_count": 77,
   "metadata": {
    "collapsed": true,
    "id": "1mwQt6HgcGlD"
   },
   "outputs": [],
   "source": [
    "real_new_pcs = pc_filt(pca2_df.T, frequency, fund=4.09, std=0.1, nhrms=2, subset=ss)\n",
    "im_new_pcs = pc_filt(pca2i_df.T, frequency, fund=4.09, std=0.1, nhrms=2, subset=ss)"
   ]
  },
  {
   "cell_type": "code",
   "execution_count": 78,
   "metadata": {
    "collapsed": true,
    "id": "cA4mrNOpgsnB"
   },
   "outputs": [],
   "source": [
    "nComp=1000 #Selects how many comps to use\n",
    "Yhat = np.dot(real_new_pcs.T[:,0:nComp], pca2.components_[0:nComp,:])\n",
    "Yhati = np.dot(im_new_pcs.T[:,0:nComp], pca2i.components_[0:nComp,:])\n",
    "\n",
    "Yhat1c = Yhat + (1j)*Yhati"
   ]
  },
  {
   "cell_type": "code",
   "execution_count": 79,
   "metadata": {
    "collapsed": true,
    "id": "STTRy5JFhaVa"
   },
   "outputs": [],
   "source": [
    "processed = []\n",
    "\n",
    "for i in range(1000):\n",
    "  processed.append(np.fft.irfft(Yhat1c[:,i]))\n",
    "\n",
    "processed = np.array(processed)\n",
    "\n",
    "np.save('Data/processed_lcs_1000pc', processed)"
   ]
  }
 ],
 "metadata": {
  "colab": {
   "collapsed_sections": [],
   "include_colab_link": true,
   "name": "FFTPCA.ipynb",
   "provenance": [],
   "toc_visible": true
  },
  "kernelspec": {
   "display_name": "Python 3",
   "language": "python",
   "name": "python3"
  },
  "language_info": {
   "codemirror_mode": {
    "name": "ipython",
    "version": 3
   },
   "file_extension": ".py",
   "mimetype": "text/x-python",
   "name": "python",
   "nbconvert_exporter": "python",
   "pygments_lexer": "ipython3",
   "version": "3.6.1"
  },
  "widgets": {
   "application/vnd.jupyter.widget-state+json": {
    "01bb25e1fe554c0e802feb73eeb50033": {
     "model_module": "@jupyter-widgets/base",
     "model_name": "LayoutModel",
     "state": {
      "_model_module": "@jupyter-widgets/base",
      "_model_module_version": "1.2.0",
      "_model_name": "LayoutModel",
      "_view_count": null,
      "_view_module": "@jupyter-widgets/base",
      "_view_module_version": "1.2.0",
      "_view_name": "LayoutView",
      "align_content": null,
      "align_items": null,
      "align_self": null,
      "border": null,
      "bottom": null,
      "display": null,
      "flex": null,
      "flex_flow": null,
      "grid_area": null,
      "grid_auto_columns": null,
      "grid_auto_flow": null,
      "grid_auto_rows": null,
      "grid_column": null,
      "grid_gap": null,
      "grid_row": null,
      "grid_template_areas": null,
      "grid_template_columns": null,
      "grid_template_rows": null,
      "height": null,
      "justify_content": null,
      "justify_items": null,
      "left": null,
      "margin": null,
      "max_height": null,
      "max_width": null,
      "min_height": null,
      "min_width": null,
      "object_fit": null,
      "object_position": null,
      "order": null,
      "overflow": null,
      "overflow_x": null,
      "overflow_y": null,
      "padding": null,
      "right": null,
      "top": null,
      "visibility": null,
      "width": null
     }
    },
    "15bcf2b9e7284a0599d2e196f9e736a1": {
     "model_module": "@jupyter-widgets/output",
     "model_name": "OutputModel",
     "state": {
      "_dom_classes": [],
      "_model_module": "@jupyter-widgets/output",
      "_model_module_version": "1.0.0",
      "_model_name": "OutputModel",
      "_view_count": null,
      "_view_module": "@jupyter-widgets/output",
      "_view_module_version": "1.0.0",
      "_view_name": "OutputView",
      "layout": "IPY_MODEL_387b7c4fd51149188c09d6d10cd709d0",
      "msg_id": "",
      "outputs": [
       {
        "image/png": "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\n",
        "metadata": {
         "needs_background": "light",
         "tags": []
        },
        "output_type": "display_data",
        "text/plain": "<Figure size 432x288 with 1 Axes>"
       },
       {
        "image/png": "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\n",
        "metadata": {
         "needs_background": "light",
         "tags": []
        },
        "output_type": "display_data",
        "text/plain": "<Figure size 432x288 with 1 Axes>"
       }
      ]
     }
    },
    "18f21edf8fc34891937b418e869ebf29": {
     "model_module": "@jupyter-widgets/base",
     "model_name": "LayoutModel",
     "state": {
      "_model_module": "@jupyter-widgets/base",
      "_model_module_version": "1.2.0",
      "_model_name": "LayoutModel",
      "_view_count": null,
      "_view_module": "@jupyter-widgets/base",
      "_view_module_version": "1.2.0",
      "_view_name": "LayoutView",
      "align_content": null,
      "align_items": null,
      "align_self": null,
      "border": null,
      "bottom": null,
      "display": null,
      "flex": null,
      "flex_flow": null,
      "grid_area": null,
      "grid_auto_columns": null,
      "grid_auto_flow": null,
      "grid_auto_rows": null,
      "grid_column": null,
      "grid_gap": null,
      "grid_row": null,
      "grid_template_areas": null,
      "grid_template_columns": null,
      "grid_template_rows": null,
      "height": null,
      "justify_content": null,
      "justify_items": null,
      "left": null,
      "margin": null,
      "max_height": null,
      "max_width": null,
      "min_height": null,
      "min_width": null,
      "object_fit": null,
      "object_position": null,
      "order": null,
      "overflow": null,
      "overflow_x": null,
      "overflow_y": null,
      "padding": null,
      "right": null,
      "top": null,
      "visibility": null,
      "width": null
     }
    },
    "30acf78758974340bfe56963b3456d70": {
     "model_module": "@jupyter-widgets/controls",
     "model_name": "SliderStyleModel",
     "state": {
      "_model_module": "@jupyter-widgets/controls",
      "_model_module_version": "1.5.0",
      "_model_name": "SliderStyleModel",
      "_view_count": null,
      "_view_module": "@jupyter-widgets/base",
      "_view_module_version": "1.2.0",
      "_view_name": "StyleView",
      "description_width": "",
      "handle_color": null
     }
    },
    "387b7c4fd51149188c09d6d10cd709d0": {
     "model_module": "@jupyter-widgets/base",
     "model_name": "LayoutModel",
     "state": {
      "_model_module": "@jupyter-widgets/base",
      "_model_module_version": "1.2.0",
      "_model_name": "LayoutModel",
      "_view_count": null,
      "_view_module": "@jupyter-widgets/base",
      "_view_module_version": "1.2.0",
      "_view_name": "LayoutView",
      "align_content": null,
      "align_items": null,
      "align_self": null,
      "border": null,
      "bottom": null,
      "display": null,
      "flex": null,
      "flex_flow": null,
      "grid_area": null,
      "grid_auto_columns": null,
      "grid_auto_flow": null,
      "grid_auto_rows": null,
      "grid_column": null,
      "grid_gap": null,
      "grid_row": null,
      "grid_template_areas": null,
      "grid_template_columns": null,
      "grid_template_rows": null,
      "height": null,
      "justify_content": null,
      "justify_items": null,
      "left": null,
      "margin": null,
      "max_height": null,
      "max_width": null,
      "min_height": null,
      "min_width": null,
      "object_fit": null,
      "object_position": null,
      "order": null,
      "overflow": null,
      "overflow_x": null,
      "overflow_y": null,
      "padding": null,
      "right": null,
      "top": null,
      "visibility": null,
      "width": null
     }
    },
    "3a3dd33b23544d5680b1215fd683e5f0": {
     "model_module": "@jupyter-widgets/controls",
     "model_name": "SliderStyleModel",
     "state": {
      "_model_module": "@jupyter-widgets/controls",
      "_model_module_version": "1.5.0",
      "_model_name": "SliderStyleModel",
      "_view_count": null,
      "_view_module": "@jupyter-widgets/base",
      "_view_module_version": "1.2.0",
      "_view_name": "StyleView",
      "description_width": "",
      "handle_color": null
     }
    },
    "3fd77f7405f5480da26a644bb94de40f": {
     "model_module": "@jupyter-widgets/controls",
     "model_name": "FloatSliderModel",
     "state": {
      "_dom_classes": [],
      "_model_module": "@jupyter-widgets/controls",
      "_model_module_version": "1.5.0",
      "_model_name": "FloatSliderModel",
      "_view_count": null,
      "_view_module": "@jupyter-widgets/controls",
      "_view_module_version": "1.5.0",
      "_view_name": "FloatSliderView",
      "continuous_update": true,
      "description": "s",
      "description_tooltip": null,
      "disabled": false,
      "layout": "IPY_MODEL_c7d5edd859114b92a5d42245d86f6f84",
      "max": 10,
      "min": 0.1,
      "orientation": "horizontal",
      "readout": true,
      "readout_format": ".2f",
      "step": 0.1,
      "style": "IPY_MODEL_3a3dd33b23544d5680b1215fd683e5f0",
      "value": 5
     }
    },
    "427747c0dcfe429a935652b7b6f58d44": {
     "model_module": "@jupyter-widgets/output",
     "model_name": "OutputModel",
     "state": {
      "_dom_classes": [],
      "_model_module": "@jupyter-widgets/output",
      "_model_module_version": "1.0.0",
      "_model_name": "OutputModel",
      "_view_count": null,
      "_view_module": "@jupyter-widgets/output",
      "_view_module_version": "1.0.0",
      "_view_name": "OutputView",
      "layout": "IPY_MODEL_f0a8fa2f4b3d4a7c8f2bf7213b75e808",
      "msg_id": "",
      "outputs": [
       {
        "image/png": "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\n",
        "metadata": {
         "needs_background": "light",
         "tags": []
        },
        "output_type": "display_data",
        "text/plain": "<Figure size 720x360 with 2 Axes>"
       }
      ]
     }
    },
    "44d9242817d844b7a96da95b1e934969": {
     "model_module": "@jupyter-widgets/controls",
     "model_name": "SliderStyleModel",
     "state": {
      "_model_module": "@jupyter-widgets/controls",
      "_model_module_version": "1.5.0",
      "_model_name": "SliderStyleModel",
      "_view_count": null,
      "_view_module": "@jupyter-widgets/base",
      "_view_module_version": "1.2.0",
      "_view_name": "StyleView",
      "description_width": "",
      "handle_color": null
     }
    },
    "4be5e05d63f441979cc0995e2a14e844": {
     "model_module": "@jupyter-widgets/controls",
     "model_name": "FloatSliderModel",
     "state": {
      "_dom_classes": [],
      "_model_module": "@jupyter-widgets/controls",
      "_model_module_version": "1.5.0",
      "_model_name": "FloatSliderModel",
      "_view_count": null,
      "_view_module": "@jupyter-widgets/controls",
      "_view_module_version": "1.5.0",
      "_view_name": "FloatSliderView",
      "continuous_update": true,
      "description": "a",
      "description_tooltip": null,
      "disabled": false,
      "layout": "IPY_MODEL_aa9e1534676e4b73a505e46e64a7b49e",
      "max": 50,
      "min": 1,
      "orientation": "horizontal",
      "readout": true,
      "readout_format": ".2f",
      "step": 1,
      "style": "IPY_MODEL_91d95494c5bc4af390ebabde4ecafdd8",
      "value": 30
     }
    },
    "5cb98fc25c1545ebb8cd50f3c8ef4b6a": {
     "model_module": "@jupyter-widgets/controls",
     "model_name": "IntSliderModel",
     "state": {
      "_dom_classes": [],
      "_model_module": "@jupyter-widgets/controls",
      "_model_module_version": "1.5.0",
      "_model_name": "IntSliderModel",
      "_view_count": null,
      "_view_module": "@jupyter-widgets/controls",
      "_view_module_version": "1.5.0",
      "_view_name": "IntSliderView",
      "continuous_update": true,
      "description": "offset2",
      "description_tooltip": null,
      "disabled": false,
      "layout": "IPY_MODEL_656bb9086cd049bfaa21c1df54cf5140",
      "max": 10,
      "min": 0,
      "orientation": "horizontal",
      "readout": true,
      "readout_format": "d",
      "step": 1,
      "style": "IPY_MODEL_eb630d311d064cba8b5b1b1663614cbd",
      "value": 1
     }
    },
    "656bb9086cd049bfaa21c1df54cf5140": {
     "model_module": "@jupyter-widgets/base",
     "model_name": "LayoutModel",
     "state": {
      "_model_module": "@jupyter-widgets/base",
      "_model_module_version": "1.2.0",
      "_model_name": "LayoutModel",
      "_view_count": null,
      "_view_module": "@jupyter-widgets/base",
      "_view_module_version": "1.2.0",
      "_view_name": "LayoutView",
      "align_content": null,
      "align_items": null,
      "align_self": null,
      "border": null,
      "bottom": null,
      "display": null,
      "flex": null,
      "flex_flow": null,
      "grid_area": null,
      "grid_auto_columns": null,
      "grid_auto_flow": null,
      "grid_auto_rows": null,
      "grid_column": null,
      "grid_gap": null,
      "grid_row": null,
      "grid_template_areas": null,
      "grid_template_columns": null,
      "grid_template_rows": null,
      "height": null,
      "justify_content": null,
      "justify_items": null,
      "left": null,
      "margin": null,
      "max_height": null,
      "max_width": null,
      "min_height": null,
      "min_width": null,
      "object_fit": null,
      "object_position": null,
      "order": null,
      "overflow": null,
      "overflow_x": null,
      "overflow_y": null,
      "padding": null,
      "right": null,
      "top": null,
      "visibility": null,
      "width": null
     }
    },
    "66654dcba3d34b63a5a7be32cc9e3de7": {
     "model_module": "@jupyter-widgets/controls",
     "model_name": "VBoxModel",
     "state": {
      "_dom_classes": [
       "widget-interact"
      ],
      "_model_module": "@jupyter-widgets/controls",
      "_model_module_version": "1.5.0",
      "_model_name": "VBoxModel",
      "_view_count": null,
      "_view_module": "@jupyter-widgets/controls",
      "_view_module_version": "1.5.0",
      "_view_name": "VBoxView",
      "box_style": "",
      "children": [
       "IPY_MODEL_a4e09ce21734444188496f306adea614",
       "IPY_MODEL_3fd77f7405f5480da26a644bb94de40f",
       "IPY_MODEL_4be5e05d63f441979cc0995e2a14e844",
       "IPY_MODEL_e98ca47ee3be4adeb2e638c4b314ab4a",
       "IPY_MODEL_5cb98fc25c1545ebb8cd50f3c8ef4b6a",
       "IPY_MODEL_15bcf2b9e7284a0599d2e196f9e736a1"
      ],
      "layout": "IPY_MODEL_b77562c8e2eb48faa8fd538b748d164b"
     }
    },
    "75769eec6f684b58af16a6b2ba7fddc1": {
     "model_module": "@jupyter-widgets/base",
     "model_name": "LayoutModel",
     "state": {
      "_model_module": "@jupyter-widgets/base",
      "_model_module_version": "1.2.0",
      "_model_name": "LayoutModel",
      "_view_count": null,
      "_view_module": "@jupyter-widgets/base",
      "_view_module_version": "1.2.0",
      "_view_name": "LayoutView",
      "align_content": null,
      "align_items": null,
      "align_self": null,
      "border": null,
      "bottom": null,
      "display": null,
      "flex": null,
      "flex_flow": null,
      "grid_area": null,
      "grid_auto_columns": null,
      "grid_auto_flow": null,
      "grid_auto_rows": null,
      "grid_column": null,
      "grid_gap": null,
      "grid_row": null,
      "grid_template_areas": null,
      "grid_template_columns": null,
      "grid_template_rows": null,
      "height": null,
      "justify_content": null,
      "justify_items": null,
      "left": null,
      "margin": null,
      "max_height": null,
      "max_width": null,
      "min_height": null,
      "min_width": null,
      "object_fit": null,
      "object_position": null,
      "order": null,
      "overflow": null,
      "overflow_x": null,
      "overflow_y": null,
      "padding": null,
      "right": null,
      "top": null,
      "visibility": null,
      "width": null
     }
    },
    "763d3b85b06c4bc183a2bad001400e4e": {
     "model_module": "@jupyter-widgets/controls",
     "model_name": "FloatSliderModel",
     "state": {
      "_dom_classes": [],
      "_model_module": "@jupyter-widgets/controls",
      "_model_module_version": "1.5.0",
      "_model_name": "FloatSliderModel",
      "_view_count": null,
      "_view_module": "@jupyter-widgets/controls",
      "_view_module_version": "1.5.0",
      "_view_name": "FloatSliderView",
      "continuous_update": true,
      "description": "windowcenter",
      "description_tooltip": null,
      "disabled": false,
      "layout": "IPY_MODEL_01bb25e1fe554c0e802feb73eeb50033",
      "max": 2300,
      "min": 2220,
      "orientation": "horizontal",
      "readout": true,
      "readout_format": ".2f",
      "step": 0.1,
      "style": "IPY_MODEL_44d9242817d844b7a96da95b1e934969",
      "value": 2264.24304222
     }
    },
    "7a0108c01d6742c9a6c9ccb2afe4e80d": {
     "model_module": "@jupyter-widgets/controls",
     "model_name": "FloatSliderModel",
     "state": {
      "_dom_classes": [],
      "_model_module": "@jupyter-widgets/controls",
      "_model_module_version": "1.5.0",
      "_model_name": "FloatSliderModel",
      "_view_count": null,
      "_view_module": "@jupyter-widgets/controls",
      "_view_module_version": "1.5.0",
      "_view_name": "FloatSliderView",
      "continuous_update": true,
      "description": "windowsize",
      "description_tooltip": null,
      "disabled": false,
      "layout": "IPY_MODEL_18f21edf8fc34891937b418e869ebf29",
      "max": 70,
      "min": 0.1,
      "orientation": "horizontal",
      "readout": true,
      "readout_format": ".2f",
      "step": 0.1,
      "style": "IPY_MODEL_ddf96ef7b6d8441a89a9553e6b646d4a",
      "value": 70
     }
    },
    "8abfd6739a084214aa8427398ed0a409": {
     "model_module": "@jupyter-widgets/controls",
     "model_name": "SliderStyleModel",
     "state": {
      "_model_module": "@jupyter-widgets/controls",
      "_model_module_version": "1.5.0",
      "_model_name": "SliderStyleModel",
      "_view_count": null,
      "_view_module": "@jupyter-widgets/base",
      "_view_module_version": "1.2.0",
      "_view_name": "StyleView",
      "description_width": "",
      "handle_color": null
     }
    },
    "91d95494c5bc4af390ebabde4ecafdd8": {
     "model_module": "@jupyter-widgets/controls",
     "model_name": "SliderStyleModel",
     "state": {
      "_model_module": "@jupyter-widgets/controls",
      "_model_module_version": "1.5.0",
      "_model_name": "SliderStyleModel",
      "_view_count": null,
      "_view_module": "@jupyter-widgets/base",
      "_view_module_version": "1.2.0",
      "_view_name": "StyleView",
      "description_width": "",
      "handle_color": null
     }
    },
    "a4e09ce21734444188496f306adea614": {
     "model_module": "@jupyter-widgets/controls",
     "model_name": "FloatSliderModel",
     "state": {
      "_dom_classes": [],
      "_model_module": "@jupyter-widgets/controls",
      "_model_module_version": "1.5.0",
      "_model_name": "FloatSliderModel",
      "_view_count": null,
      "_view_module": "@jupyter-widgets/controls",
      "_view_module_version": "1.5.0",
      "_view_name": "FloatSliderView",
      "continuous_update": true,
      "description": "l",
      "description_tooltip": null,
      "disabled": false,
      "layout": "IPY_MODEL_f296664d73c3475a99189570b2d3c965",
      "max": 10,
      "min": 0.1,
      "orientation": "horizontal",
      "readout": true,
      "readout_format": ".2f",
      "step": 0.1,
      "style": "IPY_MODEL_30acf78758974340bfe56963b3456d70",
      "value": 2
     }
    },
    "aa9e1534676e4b73a505e46e64a7b49e": {
     "model_module": "@jupyter-widgets/base",
     "model_name": "LayoutModel",
     "state": {
      "_model_module": "@jupyter-widgets/base",
      "_model_module_version": "1.2.0",
      "_model_name": "LayoutModel",
      "_view_count": null,
      "_view_module": "@jupyter-widgets/base",
      "_view_module_version": "1.2.0",
      "_view_name": "LayoutView",
      "align_content": null,
      "align_items": null,
      "align_self": null,
      "border": null,
      "bottom": null,
      "display": null,
      "flex": null,
      "flex_flow": null,
      "grid_area": null,
      "grid_auto_columns": null,
      "grid_auto_flow": null,
      "grid_auto_rows": null,
      "grid_column": null,
      "grid_gap": null,
      "grid_row": null,
      "grid_template_areas": null,
      "grid_template_columns": null,
      "grid_template_rows": null,
      "height": null,
      "justify_content": null,
      "justify_items": null,
      "left": null,
      "margin": null,
      "max_height": null,
      "max_width": null,
      "min_height": null,
      "min_width": null,
      "object_fit": null,
      "object_position": null,
      "order": null,
      "overflow": null,
      "overflow_x": null,
      "overflow_y": null,
      "padding": null,
      "right": null,
      "top": null,
      "visibility": null,
      "width": null
     }
    },
    "b77562c8e2eb48faa8fd538b748d164b": {
     "model_module": "@jupyter-widgets/base",
     "model_name": "LayoutModel",
     "state": {
      "_model_module": "@jupyter-widgets/base",
      "_model_module_version": "1.2.0",
      "_model_name": "LayoutModel",
      "_view_count": null,
      "_view_module": "@jupyter-widgets/base",
      "_view_module_version": "1.2.0",
      "_view_name": "LayoutView",
      "align_content": null,
      "align_items": null,
      "align_self": null,
      "border": null,
      "bottom": null,
      "display": null,
      "flex": null,
      "flex_flow": null,
      "grid_area": null,
      "grid_auto_columns": null,
      "grid_auto_flow": null,
      "grid_auto_rows": null,
      "grid_column": null,
      "grid_gap": null,
      "grid_row": null,
      "grid_template_areas": null,
      "grid_template_columns": null,
      "grid_template_rows": null,
      "height": null,
      "justify_content": null,
      "justify_items": null,
      "left": null,
      "margin": null,
      "max_height": null,
      "max_width": null,
      "min_height": null,
      "min_width": null,
      "object_fit": null,
      "object_position": null,
      "order": null,
      "overflow": null,
      "overflow_x": null,
      "overflow_y": null,
      "padding": null,
      "right": null,
      "top": null,
      "visibility": null,
      "width": null
     }
    },
    "b86bd6124dcd48f2b80cc5d00e0b11a2": {
     "model_module": "@jupyter-widgets/controls",
     "model_name": "VBoxModel",
     "state": {
      "_dom_classes": [
       "widget-interact"
      ],
      "_model_module": "@jupyter-widgets/controls",
      "_model_module_version": "1.5.0",
      "_model_name": "VBoxModel",
      "_view_count": null,
      "_view_module": "@jupyter-widgets/controls",
      "_view_module_version": "1.5.0",
      "_view_name": "VBoxView",
      "box_style": "",
      "children": [
       "IPY_MODEL_763d3b85b06c4bc183a2bad001400e4e",
       "IPY_MODEL_7a0108c01d6742c9a6c9ccb2afe4e80d",
       "IPY_MODEL_427747c0dcfe429a935652b7b6f58d44"
      ],
      "layout": "IPY_MODEL_75769eec6f684b58af16a6b2ba7fddc1"
     }
    },
    "c7d5edd859114b92a5d42245d86f6f84": {
     "model_module": "@jupyter-widgets/base",
     "model_name": "LayoutModel",
     "state": {
      "_model_module": "@jupyter-widgets/base",
      "_model_module_version": "1.2.0",
      "_model_name": "LayoutModel",
      "_view_count": null,
      "_view_module": "@jupyter-widgets/base",
      "_view_module_version": "1.2.0",
      "_view_name": "LayoutView",
      "align_content": null,
      "align_items": null,
      "align_self": null,
      "border": null,
      "bottom": null,
      "display": null,
      "flex": null,
      "flex_flow": null,
      "grid_area": null,
      "grid_auto_columns": null,
      "grid_auto_flow": null,
      "grid_auto_rows": null,
      "grid_column": null,
      "grid_gap": null,
      "grid_row": null,
      "grid_template_areas": null,
      "grid_template_columns": null,
      "grid_template_rows": null,
      "height": null,
      "justify_content": null,
      "justify_items": null,
      "left": null,
      "margin": null,
      "max_height": null,
      "max_width": null,
      "min_height": null,
      "min_width": null,
      "object_fit": null,
      "object_position": null,
      "order": null,
      "overflow": null,
      "overflow_x": null,
      "overflow_y": null,
      "padding": null,
      "right": null,
      "top": null,
      "visibility": null,
      "width": null
     }
    },
    "ddf96ef7b6d8441a89a9553e6b646d4a": {
     "model_module": "@jupyter-widgets/controls",
     "model_name": "SliderStyleModel",
     "state": {
      "_model_module": "@jupyter-widgets/controls",
      "_model_module_version": "1.5.0",
      "_model_name": "SliderStyleModel",
      "_view_count": null,
      "_view_module": "@jupyter-widgets/base",
      "_view_module_version": "1.2.0",
      "_view_name": "StyleView",
      "description_width": "",
      "handle_color": null
     }
    },
    "de9f57215fc547ebbf6ee1190b37eaff": {
     "model_module": "@jupyter-widgets/base",
     "model_name": "LayoutModel",
     "state": {
      "_model_module": "@jupyter-widgets/base",
      "_model_module_version": "1.2.0",
      "_model_name": "LayoutModel",
      "_view_count": null,
      "_view_module": "@jupyter-widgets/base",
      "_view_module_version": "1.2.0",
      "_view_name": "LayoutView",
      "align_content": null,
      "align_items": null,
      "align_self": null,
      "border": null,
      "bottom": null,
      "display": null,
      "flex": null,
      "flex_flow": null,
      "grid_area": null,
      "grid_auto_columns": null,
      "grid_auto_flow": null,
      "grid_auto_rows": null,
      "grid_column": null,
      "grid_gap": null,
      "grid_row": null,
      "grid_template_areas": null,
      "grid_template_columns": null,
      "grid_template_rows": null,
      "height": null,
      "justify_content": null,
      "justify_items": null,
      "left": null,
      "margin": null,
      "max_height": null,
      "max_width": null,
      "min_height": null,
      "min_width": null,
      "object_fit": null,
      "object_position": null,
      "order": null,
      "overflow": null,
      "overflow_x": null,
      "overflow_y": null,
      "padding": null,
      "right": null,
      "top": null,
      "visibility": null,
      "width": null
     }
    },
    "e98ca47ee3be4adeb2e638c4b314ab4a": {
     "model_module": "@jupyter-widgets/controls",
     "model_name": "IntSliderModel",
     "state": {
      "_dom_classes": [],
      "_model_module": "@jupyter-widgets/controls",
      "_model_module_version": "1.5.0",
      "_model_name": "IntSliderModel",
      "_view_count": null,
      "_view_module": "@jupyter-widgets/controls",
      "_view_module_version": "1.5.0",
      "_view_name": "IntSliderView",
      "continuous_update": true,
      "description": "offset1",
      "description_tooltip": null,
      "disabled": false,
      "layout": "IPY_MODEL_de9f57215fc547ebbf6ee1190b37eaff",
      "max": 10,
      "min": 0,
      "orientation": "horizontal",
      "readout": true,
      "readout_format": "d",
      "step": 1,
      "style": "IPY_MODEL_8abfd6739a084214aa8427398ed0a409",
      "value": 0
     }
    },
    "eb630d311d064cba8b5b1b1663614cbd": {
     "model_module": "@jupyter-widgets/controls",
     "model_name": "SliderStyleModel",
     "state": {
      "_model_module": "@jupyter-widgets/controls",
      "_model_module_version": "1.5.0",
      "_model_name": "SliderStyleModel",
      "_view_count": null,
      "_view_module": "@jupyter-widgets/base",
      "_view_module_version": "1.2.0",
      "_view_name": "StyleView",
      "description_width": "",
      "handle_color": null
     }
    },
    "f0a8fa2f4b3d4a7c8f2bf7213b75e808": {
     "model_module": "@jupyter-widgets/base",
     "model_name": "LayoutModel",
     "state": {
      "_model_module": "@jupyter-widgets/base",
      "_model_module_version": "1.2.0",
      "_model_name": "LayoutModel",
      "_view_count": null,
      "_view_module": "@jupyter-widgets/base",
      "_view_module_version": "1.2.0",
      "_view_name": "LayoutView",
      "align_content": null,
      "align_items": null,
      "align_self": null,
      "border": null,
      "bottom": null,
      "display": null,
      "flex": null,
      "flex_flow": null,
      "grid_area": null,
      "grid_auto_columns": null,
      "grid_auto_flow": null,
      "grid_auto_rows": null,
      "grid_column": null,
      "grid_gap": null,
      "grid_row": null,
      "grid_template_areas": null,
      "grid_template_columns": null,
      "grid_template_rows": null,
      "height": null,
      "justify_content": null,
      "justify_items": null,
      "left": null,
      "margin": null,
      "max_height": null,
      "max_width": null,
      "min_height": null,
      "min_width": null,
      "object_fit": null,
      "object_position": null,
      "order": null,
      "overflow": null,
      "overflow_x": null,
      "overflow_y": null,
      "padding": null,
      "right": null,
      "top": null,
      "visibility": null,
      "width": null
     }
    },
    "f296664d73c3475a99189570b2d3c965": {
     "model_module": "@jupyter-widgets/base",
     "model_name": "LayoutModel",
     "state": {
      "_model_module": "@jupyter-widgets/base",
      "_model_module_version": "1.2.0",
      "_model_name": "LayoutModel",
      "_view_count": null,
      "_view_module": "@jupyter-widgets/base",
      "_view_module_version": "1.2.0",
      "_view_name": "LayoutView",
      "align_content": null,
      "align_items": null,
      "align_self": null,
      "border": null,
      "bottom": null,
      "display": null,
      "flex": null,
      "flex_flow": null,
      "grid_area": null,
      "grid_auto_columns": null,
      "grid_auto_flow": null,
      "grid_auto_rows": null,
      "grid_column": null,
      "grid_gap": null,
      "grid_row": null,
      "grid_template_areas": null,
      "grid_template_columns": null,
      "grid_template_rows": null,
      "height": null,
      "justify_content": null,
      "justify_items": null,
      "left": null,
      "margin": null,
      "max_height": null,
      "max_width": null,
      "min_height": null,
      "min_width": null,
      "object_fit": null,
      "object_position": null,
      "order": null,
      "overflow": null,
      "overflow_x": null,
      "overflow_y": null,
      "padding": null,
      "right": null,
      "top": null,
      "visibility": null,
      "width": null
     }
    }
   }
  }
 },
 "nbformat": 4,
 "nbformat_minor": 1
}
